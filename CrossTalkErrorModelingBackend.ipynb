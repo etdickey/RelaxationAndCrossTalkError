{
 "cells": [
  {
   "cell_type": "markdown",
   "metadata": {},
   "source": [
    "# Custom Multi-Qubit Delay Cross-Talk Error Simulator Backend\n",
    "\n",
    "This notebook adds a customized `DelayAerSimulator` backend that extends the `AerSimulator` to support simulation of parameterized delay noise in scheduled circuits.\n",
    "\n",
    "## Motivation\n",
    "\n",
    "Recently, the ability to schedule circuits was added to qiskit to reason about duration and timing of instructions in circuits.  This process adds delay gates into a circuit when a qubit is idle.  For accurate noisy simulations, qubits should have cross-talk noise when multiple connected qubits are in a delay.\n",
    "\n",
    "The current way noise is implemented adds noise based purely on each gate without consideration of other qubits/delays.  This notebook provides a way to add cross-talk errors that depend on duration to the noise model.  These errors are the most prevalent type of error because they show up with Delays, which are a prolific part of every circuit."
   ]
  },
  {
   "cell_type": "code",
   "execution_count": 1,
   "metadata": {},
   "outputs": [
    {
     "data": {
      "image/png": "[encoded data removed]",
      "text/plain": [
       "<Figure size 1008x345.6 with 1 Axes>"
      ]
     },
     "execution_count": 1,
     "metadata": {},
     "output_type": "execute_result"
    }
   ],
   "source": [
    "from qiskit.visualization.timeline import draw\n",
    "from qiskit import QuantumCircuit, transpile\n",
    "from qiskit.test.mock import FakeVigo\n",
    "\n",
    "# Simulator backend\n",
    "_delay_ex_backend = FakeVigo()\n",
    "\n",
    "# Make a cirucit\n",
    "_qc = QuantumCircuit(4)\n",
    "_qc.h(0)\n",
    "_qc.cx(0, 1)\n",
    "_qc.x(1)\n",
    "_qc.cx(0, 2)\n",
    "_qc.x(2)\n",
    "_qc.cz(1, 0)\n",
    "_qc.h(1)\n",
    "_qc.cx(1, 3)\n",
    "\n",
    "# Schedule\n",
    "_sched_circ = transpile(_qc, _delay_ex_backend, scheduling_method='alap')\n",
    "draw(_sched_circ)"
   ]
  },
  {
   "cell_type": "code",
   "execution_count": 2,
   "metadata": {},
   "outputs": [
    {
     "data": {
      "text/html": [
       "<pre style=\"word-wrap: normal;white-space: pre;background: #fff0;line-height: 1.1;font-family: &quot;Courier New&quot;,Courier,monospace\">               ┌──────────────────┐                                                                                                                                                                      ┌───┐       \n",
       "      q_3 -> 0 ┤ DELAY(14720[dt]) ├──────────────────────────────────────────────────────────────────────────────────────────────────────────────────────────────────────────────────────────────────────┤ X ├───────\n",
       "               └┬────────────────┬┘                      ┌───┐                                                    ┌─────────┐    ┌────┐┌─────────┐┌───┐┌─────────┐┌────┐┌─────────┐     ┌───┐            └─┬─┘       \n",
       "      q_2 -> 1 ─┤ DELAY(160[dt]) ├────────────────────■──┤ X ├──■───────────■──────────────────────────────■──────┤ RZ(π/2) ├────┤ √X ├┤ RZ(π/2) ├┤ X ├┤ RZ(π/2) ├┤ √X ├┤ RZ(π/2) ├──■──┤ X ├──■───────────■─────────\n",
       "               ┌┴────────────────┤                    │  └─┬─┘  │         ┌─┴─┐       ┌─────────────────┐  │      └──┬───┬──┘    └────┘└─────────┘└─┬─┘├─────────┤├────┤├─────────┤┌─┴─┐└─┬─┘┌─┴─┐┌─────────────────┐\n",
       "      q_1 -> 2 ┤ DELAY(6720[dt]) ├────────────────────┼────┼────┼─────────┤ X ├───────┤ DELAY(2240[dt]) ├──┼─────────┤ X ├──────────────────────────■──┤ RZ(π/2) ├┤ √X ├┤ RZ(π/2) ├┤ X ├──■──┤ X ├┤ DELAY(2496[dt]) ├\n",
       "               └───┬─────────┬───┘ ┌────┐┌─────────┐┌─┴─┐  │  ┌─┴─┐┌──────┴───┴──────┐└─────────────────┘┌─┴─┐┌──────┴───┴──────┐┌───┐                 └─────────┘└────┘└─────────┘└───┘     └───┘└─────────────────┘\n",
       "      q_0 -> 3 ────┤ RZ(π/2) ├─────┤ √X ├┤ RZ(π/2) ├┤ X ├──■──┤ X ├┤ DELAY(1024[dt]) ├───────────────────┤ X ├┤ DELAY(7072[dt]) ├┤ X ├───────────────────────────────────────────────────────────────────────────────\n",
       "               ┌───┴─────────┴────┐└────┘└─────────┘└───┘     └───┘└─────────────────┘                   └───┘└─────────────────┘└───┘                                                                               \n",
       "ancilla_0 -> 4 ┤ DELAY(17216[dt]) ├──────────────────────────────────────────────────────────────────────────────────────────────────────────────────────────────────────────────────────────────────────────────────\n",
       "               └──────────────────┘                                                                                                                                                                                  </pre>"
      ],
      "text/plain": [
       "               ┌──────────────────┐                                                                                                                                                                      ┌───┐       \n",
       "      q_3 -> 0 ┤ DELAY(14720[dt]) ├──────────────────────────────────────────────────────────────────────────────────────────────────────────────────────────────────────────────────────────────────────┤ X ├───────\n",
       "               └┬────────────────┬┘                      ┌───┐                                                    ┌─────────┐    ┌────┐┌─────────┐┌───┐┌─────────┐┌────┐┌─────────┐     ┌───┐            └─┬─┘       \n",
       "      q_2 -> 1 ─┤ DELAY(160[dt]) ├────────────────────■──┤ X ├──■───────────■──────────────────────────────■──────┤ RZ(π/2) ├────┤ √X ├┤ RZ(π/2) ├┤ X ├┤ RZ(π/2) ├┤ √X ├┤ RZ(π/2) ├──■──┤ X ├──■───────────■─────────\n",
       "               ┌┴────────────────┤                    │  └─┬─┘  │         ┌─┴─┐       ┌─────────────────┐  │      └──┬───┬──┘    └────┘└─────────┘└─┬─┘├─────────┤├────┤├─────────┤┌─┴─┐└─┬─┘┌─┴─┐┌─────────────────┐\n",
       "      q_1 -> 2 ┤ DELAY(6720[dt]) ├────────────────────┼────┼────┼─────────┤ X ├───────┤ DELAY(2240[dt]) ├──┼─────────┤ X ├──────────────────────────■──┤ RZ(π/2) ├┤ √X ├┤ RZ(π/2) ├┤ X ├──■──┤ X ├┤ DELAY(2496[dt]) ├\n",
       "               └───┬─────────┬───┘ ┌────┐┌─────────┐┌─┴─┐  │  ┌─┴─┐┌──────┴───┴──────┐└─────────────────┘┌─┴─┐┌──────┴───┴──────┐┌───┐                 └─────────┘└────┘└─────────┘└───┘     └───┘└─────────────────┘\n",
       "      q_0 -> 3 ────┤ RZ(π/2) ├─────┤ √X ├┤ RZ(π/2) ├┤ X ├──■──┤ X ├┤ DELAY(1024[dt]) ├───────────────────┤ X ├┤ DELAY(7072[dt]) ├┤ X ├───────────────────────────────────────────────────────────────────────────────\n",
       "               ┌───┴─────────┴────┐└────┘└─────────┘└───┘     └───┘└─────────────────┘                   └───┘└─────────────────┘└───┘                                                                               \n",
       "ancilla_0 -> 4 ┤ DELAY(17216[dt]) ├──────────────────────────────────────────────────────────────────────────────────────────────────────────────────────────────────────────────────────────────────────────────────\n",
       "               └──────────────────┘                                                                                                                                                                                  "
      ]
     },
     "execution_count": 2,
     "metadata": {},
     "output_type": "execute_result"
    }
   ],
   "source": [
    "_sched_circ.draw(fold=-1)"
   ]
  },
  {
   "cell_type": "markdown",
   "metadata": {},
   "source": [
    "## Implementation\n",
    "\n",
    "The from_backend function allows this custom simulator to run an additional pass after the circuit has been transpiled.  During this pass, analysis data regarding the delays and duration of the delays is added to the circuit metadata.  This pass then adds a custom label to each delay gate to specify the duration of the delay.  After the pass finishes running, a post processing step is applied which takes each custom label and adds a thermal relaxation error to the noise model in the given simulator based on the length of the delay given in the circuit metadata.\n",
    "\n",
    "todo:: expand^\n",
    "via transpilation pass that does it via noise model\n",
    "\n",
    "## Simulation\n",
    "\n",
    "To simulate parameterized delay errors with this backend:\n",
    "\n",
    "1. The backend must contain a properties that includes T1, T2, and gate durations for all gates in the basis gates.\n",
    "1. The simulator `cross_talk_noise` option must be set to `True` (this defaults to True if simulator is constructed using `DelayAerSimulator.from_backend`)\n",
    "2. The input circuits must contain delay instructions to add errors to (eg be scheduled using `transpile(circuits, backend, scheduling_method=val)`)\n",
    "\n",
    "\n",
    "### Example:\n",
    "```python\n",
    "# Device noise simulator\n",
    "simulator = DelayAerSimulator.from_backend(real_backend)\n",
    "\n",
    "# Schedule circuits\n",
    "scheduled_circuits = transpile(circuits, simulator, scheduling_method='alap')\n",
    "\n",
    "# Run\n",
    "result = simulator.run(scheduled_circuits).result()\n",
    "```"
   ]
  },
  {
   "cell_type": "code",
   "execution_count": 3,
   "metadata": {},
   "outputs": [],
   "source": [
    "from qiskit.providers.aer import AerSimulator\n",
    "from qiskit.providers.aer.backends.aerbackend import AerBackend\n",
    "from qiskit.providers.aer.noise import NoiseModel, thermal_relaxation_error\n",
    "from qiskit.transpiler import PassManager\n",
    "from qiskit import QuantumCircuit\n",
    "import copy\n",
    "from delayPasses.crossTalkPass import CrossTalkDelayReplace\n",
    "\n",
    "class DelayAerSimulator(AerSimulator):\n",
    "    # Override methods of AerSimulator to add support for automatically\n",
    "    # extending the noise model with errors for the parameterized gates\n",
    "\n",
    "    @classmethod\n",
    "    def _default_options(cls):\n",
    "        # Add delay option defaulting to false\n",
    "        opts = AerSimulator._default_options()\n",
    "        opts.cross_talk_noise = False\n",
    "        opts.theta = 0.1\n",
    "        return opts\n",
    "\n",
    "    @classmethod\n",
    "    def from_backend(cls, backend, **options):\n",
    "        \"\"\"Initialize simulator from backend.\"\"\"\n",
    "\n",
    "        # Add delay noise option\n",
    "        if 'cross_talk_noise' not in options:\n",
    "            options['cross_talk_noise'] = True\n",
    "        \n",
    "        # Add theta specification option\n",
    "        if 'theta' not in options:\n",
    "            options['theta'] = 0.1\n",
    "\n",
    "        # Get configuration and properties from backend\n",
    "        configuration = copy.copy(backend.configuration())\n",
    "        properties = copy.copy(backend.properties())\n",
    "\n",
    "        # Customize configuration name\n",
    "        name = configuration.backend_name\n",
    "        configuration.backend_name = 'aer_simulator({})'.format(name)\n",
    "\n",
    "        # Use automatic noise model if none is provided\n",
    "        if 'noise_model' not in options:\n",
    "            noise_model = NoiseModel.from_backend(backend)\n",
    "            if not noise_model.is_ideal():\n",
    "                options['noise_model'] = noise_model\n",
    "\n",
    "        # Initialize simulator\n",
    "        sim = cls(configuration=configuration,\n",
    "                  properties=properties,\n",
    "                  **options)\n",
    "        return sim\n",
    "    \n",
    "    # pylint: disable=arguments-differ\n",
    "    def run(self, circuits, validate=False, **run_options):\n",
    "        \n",
    "        # Pre-process parameterized error options\n",
    "        options = copy.deepcopy(run_options)\n",
    "        if 'cross_talk_noise' in options:\n",
    "            cross_talk_noise = options.pop('cross_talk_noise')\n",
    "        else:\n",
    "            cross_talk_noise = self.options.cross_talk_noise\n",
    "        if 'noise_model' in options:\n",
    "            noise_model = options.pop('noise_model')\n",
    "        else:\n",
    "            noise_model = self.options.noise_model\n",
    "        if 'theta' in options:\n",
    "            theta = options.pop('theta')\n",
    "        else:\n",
    "            theta = self.options.theta\n",
    "        \n",
    "\n",
    "        if noise_model is not None: noise_model.add_basis_gates(RZZGate(theta=theta))\n",
    "        # Add delay noise scheduling\n",
    "        if cross_talk_noise:\n",
    "            # Run custom transpiler pass to replace delays\n",
    "            pm = PassManager()\n",
    "            pm.append([CrossTalkDelayReplace(super().configuration().coupling_map, theta)])\n",
    "            circuits = pm.run(circuits)\n",
    "            print(\"Noise model: \", noise_model)\n",
    "            \n",
    "        # Run noisy simulation\n",
    "        return super().run(circuits, validate=validate, noise_model=noise_model, **options)"
   ]
  },
  {
   "cell_type": "markdown",
   "metadata": {},
   "source": [
    "### Example 1: Verification of the cross talk backend\n",
    "\n",
    "To validate that the backend does change the counts (after making sure you have a sufficiently complicated circuit -- both of the provided options will do), you can set \"cross_talk_noise=False\" when from_backend() is called below."
   ]
  },
  {
   "cell_type": "code",
   "execution_count": 4,
   "metadata": {},
   "outputs": [
    {
     "data": {
      "text/html": [
       "<pre style=\"word-wrap: normal;white-space: pre;background: #fff0;line-height: 1.1;font-family: &quot;Courier New&quot;,Courier,monospace\">        ┌───┐ ░ ┌───┐ ░ ┌───┐ ░       ░       ░       ░       ░       ░       ░  ░ ┌─┐      \n",
       "   q_0: ┤ H ├─░─┤ H ├─░─┤ H ├─░───■───░───■───░───■───░───■───░───■───░───■───░──░─┤M├──────\n",
       "        └───┘ ░ └───┘ ░ └───┘ ░ ┌─┴─┐ ░ ┌─┴─┐ ░ ┌─┴─┐ ░   │   ░   │   ░   │   ░  ░ └╥┘┌─┐   \n",
       "   q_1: ────────────────────────┤ X ├─░─┤ X ├─░─┤ X ├─░───┼───────┼───────┼──────░──╫─┤M├───\n",
       "                                └───┘ ░ └───┘ ░ └───┘ ░ ┌─┴─┐ ░ ┌─┴─┐ ░ ┌─┴─┐ ░  ░  ║ └╥┘┌─┐\n",
       "   q_2: ────────────────────────────────────────────────┤ X ├─░─┤ X ├─░─┤ X ├─░──░──╫──╫─┤M├\n",
       "                                                        └───┘ ░ └───┘ ░ └───┘ ░  ░  ║  ║ └╥┘\n",
       "meas: 3/════════════════════════════════════════════════════════════════════════════╩══╩══╩═\n",
       "                                                                                    0  1  2 </pre>"
      ],
      "text/plain": [
       "        ┌───┐ ░ ┌───┐ ░ ┌───┐ ░       ░       ░       ░       ░       ░       ░  ░ ┌─┐      \n",
       "   q_0: ┤ H ├─░─┤ H ├─░─┤ H ├─░───■───░───■───░───■───░───■───░───■───░───■───░──░─┤M├──────\n",
       "        └───┘ ░ └───┘ ░ └───┘ ░ ┌─┴─┐ ░ ┌─┴─┐ ░ ┌─┴─┐ ░   │   ░   │   ░   │   ░  ░ └╥┘┌─┐   \n",
       "   q_1: ────────────────────────┤ X ├─░─┤ X ├─░─┤ X ├─░───┼───────┼───────┼──────░──╫─┤M├───\n",
       "                                └───┘ ░ └───┘ ░ └───┘ ░ ┌─┴─┐ ░ ┌─┴─┐ ░ ┌─┴─┐ ░  ░  ║ └╥┘┌─┐\n",
       "   q_2: ────────────────────────────────────────────────┤ X ├─░─┤ X ├─░─┤ X ├─░──░──╫──╫─┤M├\n",
       "                                                        └───┘ ░ └───┘ ░ └───┘ ░  ░  ║  ║ └╥┘\n",
       "meas: 3/════════════════════════════════════════════════════════════════════════════╩══╩══╩═\n",
       "                                                                                    0  1  2 "
      ]
     },
     "execution_count": 4,
     "metadata": {},
     "output_type": "execute_result"
    }
   ],
   "source": [
    "##Test circuit\n",
    "from qiskit import QuantumCircuit\n",
    "\n",
    "def test_circuit(num_qubits, measure=True, repeat=0):\n",
    "    \"\"\"Generate a GHZ circuit on N-qubits\n",
    "    \n",
    "    The ``repeat`` will pairs of self-inverse gates to\n",
    "    pad the circuit to be of longer duration\n",
    "    \"\"\"\n",
    "    qc = QuantumCircuit(num_qubits)\n",
    "    qc.h(0)\n",
    "    for _ in range(repeat):\n",
    "        qc.barrier(0)\n",
    "        qc.h(0)\n",
    "        qc.barrier(0)\n",
    "        qc.h(0)\n",
    "        qc.barrier(0)\n",
    "    for i in range(1, num_qubits):\n",
    "        qc.cx(0, i)\n",
    "        for _ in range(repeat):\n",
    "            qc.barrier([0, i])\n",
    "            qc.cx(0, i)\n",
    "            qc.barrier([0, i])\n",
    "            qc.cx(0, i)\n",
    "            qc.barrier([0, i])\n",
    "    if measure:\n",
    "        qc.measure_all()\n",
    "    return qc\n",
    "            \n",
    "test_circuit(3, repeat=1).draw(fold=-1)"
   ]
  },
  {
   "cell_type": "code",
   "execution_count": 5,
   "metadata": {},
   "outputs": [
    {
     "data": {
      "image/png": "[encoded data removed]",
      "text/plain": [
       "<Figure size 1008x345.6 with 1 Axes>"
      ]
     },
     "execution_count": 5,
     "metadata": {},
     "output_type": "execute_result"
    }
   ],
   "source": [
    "from qiskit import QuantumCircuit, transpile\n",
    "from qiskit.test.mock import FakeVigo\n",
    "\n",
    "# Simulator backend\n",
    "target_backend = FakeVigo()\n",
    "backend = DelayAerSimulator.from_backend(target_backend,\n",
    "                                         noise_model=None,\n",
    "#                                          cross_talk_noise=False,\n",
    "                                        )\n",
    "properties = backend.properties()\n",
    "\n",
    "#Make a cirucit\n",
    "##opt1: simple GHZ state\n",
    "# qc = QuantumCircuit(4)\n",
    "# qc.h(0)\n",
    "# qc.cx(0, 1)\n",
    "# qc.cx(0, 2)\n",
    "\n",
    "delays = range(2000, 200000, 1000)\n",
    "for delay in delays:\n",
    "    qc = QuantumCircuit(5, 1)\n",
    "    qc.h(range(5))\n",
    "    qc.barrier(range(5))\n",
    "    qc.delay(delay, range(5))\n",
    "    qc.barrier(range(5))\n",
    "    qc.h(range(5))\n",
    "    qc.measure(1, 0)\n",
    "\n",
    "##opt2: complicated mess\n",
    "# qc = QuantumCircuit(4)\n",
    "# qc.h(0)\n",
    "# qc.cx(0, 1)\n",
    "# qc.x(1)\n",
    "# qc.cx(0, 2)\n",
    "# qc.x(2)\n",
    "# qc.cz(1, 0)\n",
    "# qc.h(1)\n",
    "# qc.cx(1, 3)\n",
    "# qc.measure_all()\n",
    "# qc = test_circuit(4, repeat=2)\n",
    "\n",
    "# Schedule\n",
    "sched_circ = transpile(qc, backend, scheduling_method='alap')\n",
    "draw(sched_circ)"
   ]
  },
  {
   "cell_type": "code",
   "execution_count": 6,
   "metadata": {},
   "outputs": [
    {
     "data": {
      "text/html": [
       "<pre style=\"word-wrap: normal;white-space: pre;background: #fff0;line-height: 1.1;font-family: &quot;Courier New&quot;,Courier,monospace\">         ┌─────────┐┌────┐┌─────────┐ ░ ┌─────────────────────┐ ░ ┌──────────────────┐┌─────────┐   ┌────┐  ┌─────────┐   \n",
       "q_0 -> 0 ┤ RZ(π/2) ├┤ √X ├┤ RZ(π/2) ├─░─┤ DELAY(1.99e+05[dt]) ├─░─┤ DELAY(26160[dt]) ├┤ RZ(π/2) ├───┤ √X ├──┤ RZ(π/2) ├───\n",
       "         ├─────────┤├────┤├─────────┤ ░ ├─────────────────────┤ ░ └───┬─────────┬────┘└──┬────┬─┘┌──┴────┴─┐└─────────┘┌─┐\n",
       "q_1 -> 1 ┤ RZ(π/2) ├┤ √X ├┤ RZ(π/2) ├─░─┤ DELAY(1.99e+05[dt]) ├─░─────┤ RZ(π/2) ├────────┤ √X ├──┤ RZ(π/2) ├───────────┤M├\n",
       "         ├─────────┤├────┤├─────────┤ ░ ├─────────────────────┤ ░ ┌───┴─────────┴────┐┌──┴────┴─┐└──┬────┬─┘┌─────────┐└╥┘\n",
       "q_2 -> 2 ┤ RZ(π/2) ├┤ √X ├┤ RZ(π/2) ├─░─┤ DELAY(1.99e+05[dt]) ├─░─┤ DELAY(26160[dt]) ├┤ RZ(π/2) ├───┤ √X ├──┤ RZ(π/2) ├─╫─\n",
       "         ├─────────┤├────┤├─────────┤ ░ ├─────────────────────┤ ░ ├──────────────────┤├─────────┤   ├────┤  ├─────────┤ ║ \n",
       "q_3 -> 3 ┤ RZ(π/2) ├┤ √X ├┤ RZ(π/2) ├─░─┤ DELAY(1.99e+05[dt]) ├─░─┤ DELAY(26160[dt]) ├┤ RZ(π/2) ├───┤ √X ├──┤ RZ(π/2) ├─╫─\n",
       "         ├─────────┤├────┤├─────────┤ ░ ├─────────────────────┤ ░ ├──────────────────┤├─────────┤   ├────┤  ├─────────┤ ║ \n",
       "q_4 -> 4 ┤ RZ(π/2) ├┤ √X ├┤ RZ(π/2) ├─░─┤ DELAY(1.99e+05[dt]) ├─░─┤ DELAY(26160[dt]) ├┤ RZ(π/2) ├───┤ √X ├──┤ RZ(π/2) ├─╫─\n",
       "         └─────────┘└────┘└─────────┘ ░ └─────────────────────┘ ░ └──────────────────┘└─────────┘   └────┘  └─────────┘ ║ \n",
       "    c: 1/═══════════════════════════════════════════════════════════════════════════════════════════════════════════════╩═\n",
       "                                                                                                                        0 </pre>"
      ],
      "text/plain": [
       "         ┌─────────┐┌────┐┌─────────┐ ░ ┌─────────────────────┐ ░ ┌──────────────────┐┌─────────┐   ┌────┐  ┌─────────┐   \n",
       "q_0 -> 0 ┤ RZ(π/2) ├┤ √X ├┤ RZ(π/2) ├─░─┤ DELAY(1.99e+05[dt]) ├─░─┤ DELAY(26160[dt]) ├┤ RZ(π/2) ├───┤ √X ├──┤ RZ(π/2) ├───\n",
       "         ├─────────┤├────┤├─────────┤ ░ ├─────────────────────┤ ░ └───┬─────────┬────┘└──┬────┬─┘┌──┴────┴─┐└─────────┘┌─┐\n",
       "q_1 -> 1 ┤ RZ(π/2) ├┤ √X ├┤ RZ(π/2) ├─░─┤ DELAY(1.99e+05[dt]) ├─░─────┤ RZ(π/2) ├────────┤ √X ├──┤ RZ(π/2) ├───────────┤M├\n",
       "         ├─────────┤├────┤├─────────┤ ░ ├─────────────────────┤ ░ ┌───┴─────────┴────┐┌──┴────┴─┐└──┬────┬─┘┌─────────┐└╥┘\n",
       "q_2 -> 2 ┤ RZ(π/2) ├┤ √X ├┤ RZ(π/2) ├─░─┤ DELAY(1.99e+05[dt]) ├─░─┤ DELAY(26160[dt]) ├┤ RZ(π/2) ├───┤ √X ├──┤ RZ(π/2) ├─╫─\n",
       "         ├─────────┤├────┤├─────────┤ ░ ├─────────────────────┤ ░ ├──────────────────┤├─────────┤   ├────┤  ├─────────┤ ║ \n",
       "q_3 -> 3 ┤ RZ(π/2) ├┤ √X ├┤ RZ(π/2) ├─░─┤ DELAY(1.99e+05[dt]) ├─░─┤ DELAY(26160[dt]) ├┤ RZ(π/2) ├───┤ √X ├──┤ RZ(π/2) ├─╫─\n",
       "         ├─────────┤├────┤├─────────┤ ░ ├─────────────────────┤ ░ ├──────────────────┤├─────────┤   ├────┤  ├─────────┤ ║ \n",
       "q_4 -> 4 ┤ RZ(π/2) ├┤ √X ├┤ RZ(π/2) ├─░─┤ DELAY(1.99e+05[dt]) ├─░─┤ DELAY(26160[dt]) ├┤ RZ(π/2) ├───┤ √X ├──┤ RZ(π/2) ├─╫─\n",
       "         └─────────┘└────┘└─────────┘ ░ └─────────────────────┘ ░ └──────────────────┘└─────────┘   └────┘  └─────────┘ ║ \n",
       "    c: 1/═══════════════════════════════════════════════════════════════════════════════════════════════════════════════╩═\n",
       "                                                                                                                        0 "
      ]
     },
     "execution_count": 6,
     "metadata": {},
     "output_type": "execute_result"
    }
   ],
   "source": [
    "sched_circ.draw(fold=-1)"
   ]
  },
  {
   "cell_type": "markdown",
   "metadata": {},
   "source": [
    "### Verification via histogram\n",
    "The following histogram is a plot of a \"noisy\" typical simulator run of FakeVigo as well as the modified custom backend I provide WITHOUT a noise model (ie. the only noise present is the noise caused by crosstalk).\n",
    "\n",
    "The \"ideal\" simulation should show typical circuit noise caused by the simulator's noise model.  The \"noisy\" simulation should only show noise added by the crosstalk pass (as the noise model is set to None).  Both simulations use the same base backend simulator."
   ]
  },
  {
   "cell_type": "code",
   "execution_count": 7,
   "metadata": {},
   "outputs": [
    {
     "name": "stdout",
     "output_type": "stream",
     "text": [
      "Noise model:  None\n"
     ]
    },
    {
     "data": {
      "image/png": "[encoded data removed]",
      "text/plain": [
       "<Figure size 504x360 with 1 Axes>"
      ]
     },
     "execution_count": 7,
     "metadata": {},
     "output_type": "execute_result"
    }
   ],
   "source": [
    "from qiskit.visualization import plot_histogram\n",
    "\n",
    "# Run using custom backend\n",
    "shots = 10000\n",
    "result_noise = backend.run([sched_circ], shots=shots).result()\n",
    "counts_noise = result_noise.get_counts(0)\n",
    "##Note: if the circuit is sufficiently complicated, you should see a majority of correct counts\n",
    "## plus a few scattered incorrect (error) counts\n",
    "# result.get_counts(0)\n",
    "\n",
    "#ideal\n",
    "sim_ideal = FakeVigo()\n",
    "\n",
    "result_ideal = sim_ideal.run([sched_circ], shots=shots).result()\n",
    "counts_ideal = result_ideal.get_counts(0)\n",
    "\n",
    "plot_histogram([counts_ideal, counts_noise])"
   ]
  },
  {
   "cell_type": "code",
   "execution_count": 9,
   "metadata": {},
   "outputs": [
    {
     "data": {
      "text/html": [
       "<pre style=\"word-wrap: normal;white-space: pre;background: #fff0;line-height: 1.1;font-family: &quot;Courier New&quot;,Courier,monospace\">                                        \n",
       "q_0: ──■─────────────────────────────■──\n",
       "     ┌─┴─┐┌───────────────────────┐┌─┴─┐\n",
       "q_1: ┤ X ├┤ RZ(0.100000000000000) ├┤ X ├\n",
       "     └───┘└───────────────────────┘└───┘</pre>"
      ],
      "text/plain": [
       "                                        \n",
       "q_0: ──■─────────────────────────────■──\n",
       "     ┌─┴─┐┌───────────────────────┐┌─┴─┐\n",
       "q_1: ┤ X ├┤ RZ(0.100000000000000) ├┤ X ├\n",
       "     └───┘└───────────────────────┘└───┘"
      ]
     },
     "execution_count": 9,
     "metadata": {},
     "output_type": "execute_result"
    }
   ],
   "source": [
    "from qiskit.circuit.library import RZZGate\n",
    "#At this point, this is facetious, but I like the way it looks :)\n",
    "RZZGate(0.1).decompositions[0].draw()"
   ]
  },
  {
   "cell_type": "code",
   "execution_count": null,
   "metadata": {},
   "outputs": [],
   "source": []
  }
 ],
 "metadata": {
  "kernelspec": {
   "display_name": "Python 3",
   "language": "python",
   "name": "python3"
  },
  "language_info": {
   "codemirror_mode": {
    "name": "ipython",
    "version": 3
   },
   "file_extension": ".py",
   "mimetype": "text/x-python",
   "name": "python",
   "nbconvert_exporter": "python",
   "pygments_lexer": "ipython3",
   "version": "3.8.2"
  }
 },
 "nbformat": 4,
 "nbformat_minor": 4
}
