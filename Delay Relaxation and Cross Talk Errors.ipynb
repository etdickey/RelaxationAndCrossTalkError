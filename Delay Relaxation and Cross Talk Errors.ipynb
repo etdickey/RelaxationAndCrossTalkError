{
 "cells": [
  {
   "cell_type": "markdown",
   "id": "ce8665f9-3480-46a0-bb68-0f87431d206f",
   "metadata": {},
   "source": [
    "# Delay Relaxation and Cross Talk Errors\n",
    "#### Ethan Dickey, Quantum Research Intern (Master's): Summer 2021\n",
    "#### POC: Chris Wood\n",
    "\n",
    "This notebook adds a customized `DelayAerSimulator` backend that extends `AerSimulator` to support simulation of both *parameterized delay noise* and *cross talk noise* in scheduled circuits.\n",
    "\n",
    "It also provides a structure for adding generalized parameterized noise to a circuit (a functionality not currently supported by Qiskit simulators)."
   ]
  },
  {
   "cell_type": "markdown",
   "id": "dd7b4fb9-d0b3-4387-a033-df1aa575063e",
   "metadata": {},
   "source": [
    "## Motivation\n",
    "\n",
    "Recently, the ability to schedule circuits was added to qiskit to reason about the duration and timing of instructions in circuits.  Scheduling a circuit, among other things, adds (duration-) parameterized delay gates into a circuit when a qubit is idle.  However, presently none of the simulators in qiskit have a way to add parameterized noise to a noise model.  They simply add noise based on the gates present in the circuit.  In addition, they don't have noise based on cross talk (when multiple connected qubits are in a delay).  This notebook demonstrates both a method to add single-qubit parameterized thermal relaxation errors as well as a method to add cross talk errors to a simulation.\n",
    "\n",
    "Having these delay-based errors in a circuit is important for accurate noisy simulations as delays are a prolific part of every scheduled circuit.  For example, in a simple 4-qubit GHZ circuit, scheduling adds 6 delays.  In the first circuit drawing, you can see the many delays added to the original circuit.  For a different perspective, in the second circuit drawing everywhere there is grey is where scheduling adds a delay."
   ]
  },
  {
   "cell_type": "code",
   "execution_count": 3,
   "id": "839ad0d4-6d90-44a2-a2ce-10560e269839",
   "metadata": {},
   "outputs": [
    {
     "data": {
      "text/html": [
       "<pre style=\"word-wrap: normal;white-space: pre;background: #fff0;line-height: 1.1;font-family: &quot;Courier New&quot;,Courier,monospace\">               ┌─────────────────┐                                                                         ┌───┐       \n",
       "      q_3 -> 0 ┤ DELAY(7520[dt]) ├─────────────────────────────────────────────────────────────────────────┤ X ├───────\n",
       "               └─────────────────┘    ┌───┐                            ┌───┐       ┌───┐                   └─┬─┘       \n",
       "      q_2 -> 1 ─────────■─────────────┤ X ├─────■──────────────────────┤ X ├───────┤ X ├─────────■───────────■─────────\n",
       "                      ┌─┴─┐           └─┬─┘   ┌─┴─┐ ┌─────────────────┐└─┬─┘       └─┬─┘       ┌─┴─┐┌─────────────────┐\n",
       "      q_1 -> 2 ───────┤ X ├─────────────■─────┤ X ├─┤ DELAY(2080[dt]) ├──┼───────────■─────────┤ X ├┤ DELAY(2496[dt]) ├\n",
       "               ┌──────┴───┴──────┐ ┌─────────┐├───┴┐└───┬─────────┬───┘  │  ┌─────────────────┐└───┘└─────────────────┘\n",
       "      q_0 -> 3 ┤ DELAY(3072[dt]) ├─┤ RZ(π/2) ├┤ √X ├────┤ RZ(π/2) ├──────■──┤ DELAY(4704[dt]) ├────────────────────────\n",
       "               ├─────────────────┴┐└─────────┘└────┘    └─────────┘         └─────────────────┘                        \n",
       "ancilla_0 -> 4 ┤ DELAY(10016[dt]) ├────────────────────────────────────────────────────────────────────────────────────\n",
       "               └──────────────────┘                                                                                    </pre>"
      ],
      "text/plain": [
       "               ┌─────────────────┐                                                                         ┌───┐       \n",
       "      q_3 -> 0 ┤ DELAY(7520[dt]) ├─────────────────────────────────────────────────────────────────────────┤ X ├───────\n",
       "               └─────────────────┘    ┌───┐                            ┌───┐       ┌───┐                   └─┬─┘       \n",
       "      q_2 -> 1 ─────────■─────────────┤ X ├─────■──────────────────────┤ X ├───────┤ X ├─────────■───────────■─────────\n",
       "                      ┌─┴─┐           └─┬─┘   ┌─┴─┐ ┌─────────────────┐└─┬─┘       └─┬─┘       ┌─┴─┐┌─────────────────┐\n",
       "      q_1 -> 2 ───────┤ X ├─────────────■─────┤ X ├─┤ DELAY(2080[dt]) ├──┼───────────■─────────┤ X ├┤ DELAY(2496[dt]) ├\n",
       "               ┌──────┴───┴──────┐ ┌─────────┐├───┴┐└───┬─────────┬───┘  │  ┌─────────────────┐└───┘└─────────────────┘\n",
       "      q_0 -> 3 ┤ DELAY(3072[dt]) ├─┤ RZ(π/2) ├┤ √X ├────┤ RZ(π/2) ├──────■──┤ DELAY(4704[dt]) ├────────────────────────\n",
       "               ├─────────────────┴┐└─────────┘└────┘    └─────────┘         └─────────────────┘                        \n",
       "ancilla_0 -> 4 ┤ DELAY(10016[dt]) ├────────────────────────────────────────────────────────────────────────────────────\n",
       "               └──────────────────┘                                                                                    "
      ]
     },
     "execution_count": 3,
     "metadata": {},
     "output_type": "execute_result"
    }
   ],
   "source": [
    "from qiskit.visualization.timeline import draw\n",
    "from qiskit import QuantumCircuit, transpile\n",
    "from qiskit.test.mock import FakeVigo\n",
    "\n",
    "# Simulator backend\n",
    "_delay_ex_backend = FakeVigo()\n",
    "\n",
    "# Make a cirucit\n",
    "_qc = QuantumCircuit(4)\n",
    "_qc.h(0)\n",
    "_qc.cx(0, 1)\n",
    "_qc.cx(1, 2)\n",
    "_qc.cx(2, 3)\n",
    "\n",
    "# Schedule\n",
    "_sched_circ = transpile(_qc, _delay_ex_backend, scheduling_method='alap')\n",
    "_sched_circ.draw(fold=-1)"
   ]
  },
  {
   "cell_type": "code",
   "execution_count": 2,
   "id": "26da6752-2584-475f-95fa-2e4e5d87267e",
   "metadata": {},
   "outputs": [
    {
     "data": {
      "image/png": "[encoded data removed]",
      "text/plain": [
       "<Figure size 1008x345.6 with 1 Axes>"
      ]
     },
     "execution_count": 2,
     "metadata": {},
     "output_type": "execute_result"
    }
   ],
   "source": [
    "draw(_sched_circ)"
   ]
  },
  {
   "cell_type": "markdown",
   "id": "2ada4b0b-5a1c-4a05-8272-5c3beb0a002c",
   "metadata": {},
   "source": [
    "## Implementation\n",
    "\n",
    "The from_backend function allows this custom simulator to run additional passes after the circuit has been transpiled.  The two passes run are DelayReplace and CrossTalkDelayReplace\n",
    "\n",
    "### DelayReplace\n",
    "\n",
    "During this pass, analysis data regarding the delays and their durations is added to the circuit metadata.  This pass then adds a custom label to each delay gate so that the noise model can recognize delay errors based on their unique durations.\n",
    "\n",
    "### CrossTalkDelayReplace\n",
    "\n",
    "This pass first identifies when any qubit delay starts or stops and then uses that information to split all delays so that all delays line up.  This allows the pass to then efficiently detect when two delays start together and add cross talk if they are connected according to the coupling map."
   ]
  },
  {
   "cell_type": "code",
   "execution_count": null,
   "id": "bc2b1be5-37df-4e2c-8988-e3176cd323bc",
   "metadata": {},
   "outputs": [],
   "source": []
  }
 ],
 "metadata": {
  "kernelspec": {
   "display_name": "Python 3",
   "language": "python",
   "name": "python3"
  },
  "language_info": {
   "codemirror_mode": {
    "name": "ipython",
    "version": 3
   },
   "file_extension": ".py",
   "mimetype": "text/x-python",
   "name": "python",
   "nbconvert_exporter": "python",
   "pygments_lexer": "ipython3",
   "version": "3.8.2"
  }
 },
 "nbformat": 4,
 "nbformat_minor": 5
}
