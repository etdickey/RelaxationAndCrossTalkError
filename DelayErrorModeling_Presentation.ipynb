{
 "cells": [
  {
   "cell_type": "markdown",
   "metadata": {
    "slideshow": {
     "slide_type": "slide"
    },
    "tags": []
   },
   "source": [
    "# Custom Single-Qubit Delay Error Simulator Backend\n",
    "#### Ethan Dickey, Qiskit Demoday and Roadmap meeting, Aug 5, 2021\n",
    "This notebook adds a customized `DelayAerSimulator` backend that extends the `AerSimulator` to support simulation of parameterized delay noise in scheduled circuits.\n",
    "\n",
    "## Motivation\n",
    "\n",
    "- Ability to schedule circuits\n",
    "  - Adds delay gates\n",
    "- Accurate noisy simulations\n",
    "- Current noise model doesn't consider parameters"
   ]
  },
  {
   "cell_type": "code",
   "execution_count": 1,
   "metadata": {},
   "outputs": [
    {
     "data": {
      "image/png": "[encoded data removed]",
      "text/plain": [
       "<Figure size 1008x345.6 with 1 Axes>"
      ]
     },
     "execution_count": 1,
     "metadata": {},
     "output_type": "execute_result"
    }
   ],
   "source": [
    "from qiskit.visualization.timeline import draw\n",
    "from qiskit import QuantumCircuit, transpile\n",
    "from qiskit.test.mock import FakeVigo\n",
    "\n",
    "# Simulator backend\n",
    "_delay_ex_backend = FakeVigo()\n",
    "\n",
    "# Make a cirucit\n",
    "_qc = QuantumCircuit(4)\n",
    "_qc.h(0)\n",
    "_qc.cx(0, 1)\n",
    "_qc.x(1)\n",
    "_qc.cx(0, 2)\n",
    "_qc.x(2)\n",
    "_qc.cz(1, 0)\n",
    "_qc.h(1)\n",
    "_qc.cx(1, 3)\n",
    "\n",
    "# Schedule\n",
    "_sched_circ = transpile(_qc, _delay_ex_backend, scheduling_method='alap')\n",
    "draw(_sched_circ)"
   ]
  },
  {
   "cell_type": "code",
   "execution_count": 2,
   "metadata": {},
   "outputs": [
    {
     "data": {
      "text/html": [
       "<pre style=\"word-wrap: normal;white-space: pre;background: #fff0;line-height: 1.1;font-family: &quot;Courier New&quot;,Courier,monospace\">               ┌──────────────────┐                                                                                                                                                                        ┌───┐     ┌─────────────────┐\n",
       "      q_3 -> 0 ┤ DELAY(11488[dt]) ├──────────────────────────────────────────────────────────────────────────────────────────────────────────────────────────────────────────────────────────────────■─────┤ X ├──■──┤ DELAY(1184[dt]) ├\n",
       "               └┬────────────────┬┘                      ┌───┐                                                    ┌─────────┐    ┌────┐┌─────────┐┌───┐    ┌─────────┐       ┌────┐  ┌─────────┐   ┌─┴─┐   └─┬─┘┌─┴─┐└──────┬───┬──────┘\n",
       "      q_2 -> 1 ─┤ DELAY(160[dt]) ├────────────────────■──┤ X ├──■───────────■──────────────────────────────■──────┤ RZ(π/2) ├────┤ √X ├┤ RZ(π/2) ├┤ X ├────┤ RZ(π/2) ├───────┤ √X ├──┤ RZ(π/2) ├───┤ X ├─────■──┤ X ├───────┤ X ├───────\n",
       "               ┌┴────────────────┤                    │  └─┬─┘  │         ┌─┴─┐       ┌─────────────────┐  │      └──┬───┬──┘    └────┘└─────────┘└─┬─┘┌───┴─────────┴───┐┌──┴────┴─┐└──┬────┬─┘┌──┴───┴──┐     └───┘       └─┬─┘       \n",
       "      q_1 -> 2 ┤ DELAY(6720[dt]) ├────────────────────┼────┼────┼─────────┤ X ├───────┤ DELAY(2240[dt]) ├──┼─────────┤ X ├──────────────────────────■──┤ DELAY(7168[dt]) ├┤ RZ(π/2) ├───┤ √X ├──┤ RZ(π/2) ├───────────────────■─────────\n",
       "               └───┬─────────┬───┘ ┌────┐┌─────────┐┌─┴─┐  │  ┌─┴─┐┌──────┴───┴──────┐└─────────────────┘┌─┴─┐┌──────┴───┴──────┐┌───┐                 └─────────────────┘└─────────┘   └────┘  └─────────┘                             \n",
       "      q_0 -> 3 ────┤ RZ(π/2) ├─────┤ √X ├┤ RZ(π/2) ├┤ X ├──■──┤ X ├┤ DELAY(1024[dt]) ├───────────────────┤ X ├┤ DELAY(9696[dt]) ├┤ X ├──────────────────────────────────────────────────────────────────────────────────────────────────\n",
       "               ┌───┴─────────┴────┐└────┘└─────────┘└───┘     └───┘└─────────────────┘                   └───┘└─────────────────┘└───┘                                                                                                  \n",
       "ancilla_0 -> 4 ┤ DELAY(19840[dt]) ├─────────────────────────────────────────────────────────────────────────────────────────────────────────────────────────────────────────────────────────────────────────────────────────────────────\n",
       "               └──────────────────┘                                                                                                                                                                                                     </pre>"
      ],
      "text/plain": [
       "               ┌──────────────────┐                                                                                                                                                                        ┌───┐     ┌─────────────────┐\n",
       "      q_3 -> 0 ┤ DELAY(11488[dt]) ├──────────────────────────────────────────────────────────────────────────────────────────────────────────────────────────────────────────────────────────────────■─────┤ X ├──■──┤ DELAY(1184[dt]) ├\n",
       "               └┬────────────────┬┘                      ┌───┐                                                    ┌─────────┐    ┌────┐┌─────────┐┌───┐    ┌─────────┐       ┌────┐  ┌─────────┐   ┌─┴─┐   └─┬─┘┌─┴─┐└──────┬───┬──────┘\n",
       "      q_2 -> 1 ─┤ DELAY(160[dt]) ├────────────────────■──┤ X ├──■───────────■──────────────────────────────■──────┤ RZ(π/2) ├────┤ √X ├┤ RZ(π/2) ├┤ X ├────┤ RZ(π/2) ├───────┤ √X ├──┤ RZ(π/2) ├───┤ X ├─────■──┤ X ├───────┤ X ├───────\n",
       "               ┌┴────────────────┤                    │  └─┬─┘  │         ┌─┴─┐       ┌─────────────────┐  │      └──┬───┬──┘    └────┘└─────────┘└─┬─┘┌───┴─────────┴───┐┌──┴────┴─┐└──┬────┬─┘┌──┴───┴──┐     └───┘       └─┬─┘       \n",
       "      q_1 -> 2 ┤ DELAY(6720[dt]) ├────────────────────┼────┼────┼─────────┤ X ├───────┤ DELAY(2240[dt]) ├──┼─────────┤ X ├──────────────────────────■──┤ DELAY(7168[dt]) ├┤ RZ(π/2) ├───┤ √X ├──┤ RZ(π/2) ├───────────────────■─────────\n",
       "               └───┬─────────┬───┘ ┌────┐┌─────────┐┌─┴─┐  │  ┌─┴─┐┌──────┴───┴──────┐└─────────────────┘┌─┴─┐┌──────┴───┴──────┐┌───┐                 └─────────────────┘└─────────┘   └────┘  └─────────┘                             \n",
       "      q_0 -> 3 ────┤ RZ(π/2) ├─────┤ √X ├┤ RZ(π/2) ├┤ X ├──■──┤ X ├┤ DELAY(1024[dt]) ├───────────────────┤ X ├┤ DELAY(9696[dt]) ├┤ X ├──────────────────────────────────────────────────────────────────────────────────────────────────\n",
       "               ┌───┴─────────┴────┐└────┘└─────────┘└───┘     └───┘└─────────────────┘                   └───┘└─────────────────┘└───┘                                                                                                  \n",
       "ancilla_0 -> 4 ┤ DELAY(19840[dt]) ├─────────────────────────────────────────────────────────────────────────────────────────────────────────────────────────────────────────────────────────────────────────────────────────────────────\n",
       "               └──────────────────┘                                                                                                                                                                                                     "
      ]
     },
     "execution_count": 2,
     "metadata": {},
     "output_type": "execute_result"
    }
   ],
   "source": [
    "_sched_circ.draw(fold=-1)"
   ]
  },
  {
   "cell_type": "markdown",
   "metadata": {},
   "source": [
    "## Implementation\n",
    "\n",
    "- Hacked backend adds a transpilation pass which modifies the noise model\n",
    "- Option to turn it off"
   ]
  },
  {
   "cell_type": "code",
   "execution_count": 3,
   "metadata": {},
   "outputs": [],
   "source": [
    "from qiskit.providers.aer import AerSimulator\n",
    "from qiskit.providers.aer.backends.aerbackend import AerBackend\n",
    "from qiskit.providers.aer.noise import NoiseModel, thermal_relaxation_error\n",
    "from qiskit.transpiler import PassManager\n",
    "import copy\n",
    "from qiskit import QuantumCircuit\n",
    "from delayPasses.delayRelaxationPass import DelayReplace\n",
    "\n",
    "class DelayAerSimulator(AerSimulator):\n",
    "    #Define the noise model (to post-process the replaced delay gates into actual noise)\n",
    "    def thermal_relaxation_function(self):\n",
    "        \"\"\"Return function for generating thermal relaxation errors.\n",
    "\n",
    "        The returned function is used to generate thermal relaxation\n",
    "        errors for delay instructions based on the qubit `T1`, `T2`\n",
    "        properties, and `dt` time of the provided backend.\n",
    "\n",
    "        Args:\n",
    "            backend (Backend): A backend object.\n",
    "\n",
    "        Returns:\n",
    "            Callable: the delay error function with signature\n",
    "                      ``fn(qubits, params) -> QuantumError```.\n",
    "        \"\"\"\n",
    "        properties = self.properties()\n",
    "        dt = self.configuration().dt\n",
    "\n",
    "\n",
    "        def delay_error(qubits, params):\n",
    "            \"\"\"Return error instruction for delay on specified qubits.\n",
    "\n",
    "            Args:\n",
    "                qubits (List[int]): qubits to apply delay to.\n",
    "                duration (List[float]): length one list of delay\n",
    "                    duration param. The delay time is given by\n",
    "                    ``params[0] * dt``.\n",
    "\n",
    "            Returns:\n",
    "                QuantumError: the error instruction.\n",
    "            \"\"\"\n",
    "            time = params[0] * dt\n",
    "            error = None\n",
    "            for qubit in qubits:\n",
    "                t1 = properties.t1(qubit)\n",
    "                t2 = properties.t2(qubit)\n",
    "                qubit_error = thermal_relaxation_error(t1, t2, time)\n",
    "                if error is None:\n",
    "                    error = qubit_error\n",
    "                else:\n",
    "                    error = error.expand(qubit_error)\n",
    "            return error\n",
    "\n",
    "        return delay_error\n",
    "    \n",
    "    def add_transpiler_parameterized_errors(self, circuits, noise_model=None):\n",
    "        \"\"\"Extracts the parameterized errors from each circuit's metadata and\n",
    "            adds them to the noise model given.  Circuit should\n",
    "            have been transpiled with the delay pass included for this to\n",
    "            be useful.  Errors are characterized by which backend simulator\n",
    "            is provided (currently only AerBackends are supported).\n",
    "\n",
    "        Args:\n",
    "            backend (Backend): An AerBackend instance to add the noise\n",
    "                error to.\n",
    "            circuits (QuantumCircuit(s)): Quantum circuits with metadata including\n",
    "                the transpiler_parameterized_error field.\n",
    "            noise_model: Noise model to use or else one is generated.\n",
    "\n",
    "        Returns:\n",
    "            None\n",
    "        \"\"\"\n",
    "\n",
    "        # Look for existing noise model\n",
    "        # Make a copy of noise model since we are appending it\n",
    "        nm = copy.deepcopy(noise_model) or NoiseModel()\n",
    "\n",
    "\n",
    "        #retrieve function to generate errors based on backend\n",
    "        backend_delay_error = self.thermal_relaxation_function()\n",
    "\n",
    "        if isinstance(circuits, QuantumCircuit):\n",
    "            circuits = [circuits]\n",
    "\n",
    "        for circuit in circuits:\n",
    "            #Validate metadata\n",
    "            if not circuit.metadata or 'transpiler_parameterized_error' not in circuit.metadata:\n",
    "                print(\"Warning: One circuit does not have any parameterized errors\")\n",
    "                continue\n",
    "\n",
    "            metadata = circuit.metadata.pop('transpiler_parameterized_error')\n",
    "            qubit_indices = {qubit: idx for idx, qubit in enumerate(circuit.qubits)}\n",
    "\n",
    "            #Add delay errors to noise model\n",
    "            #  transpile_paramaterized_errors = {tuple(labelstring, qubitlist): paramlist: [float]}\n",
    "            for (label, qubits), params in metadata.items():\n",
    "                qargs = [qubit_indices[i] for i in qubits]\n",
    "                #todo:: check if we can change qubitlist to be the indicies like done ^^\n",
    "                error = backend_delay_error(qargs, params)\n",
    "\n",
    "                # Add to noise model(QuantumError, label: String, [qubits])\n",
    "                nm.add_quantum_error(error, label, qargs)\n",
    "        return nm\n",
    "    \n",
    "    # Override methods of AerSimulator to add support for automatically\n",
    "    # extending the noise model with errors for the parameterized gates\n",
    "\n",
    "    @classmethod\n",
    "    def _default_options(cls):\n",
    "        # Add delay option defaulting to false\n",
    "        opts = AerSimulator._default_options()\n",
    "        opts.delay_noise = False\n",
    "        return opts\n",
    "\n",
    "    @classmethod\n",
    "    def from_backend(cls, backend, **options):\n",
    "        \"\"\"Initialize simulator from backend.\"\"\"\n",
    "\n",
    "        # Add delay noise option\n",
    "        if 'delay_noise' not in options:\n",
    "            options['delay_noise'] = True\n",
    "\n",
    "        # Get configuration and properties from backend\n",
    "        configuration = copy.copy(backend.configuration())\n",
    "        properties = copy.copy(backend.properties())\n",
    "\n",
    "        # Customize configuration name\n",
    "        name = configuration.backend_name\n",
    "        configuration.backend_name = 'aer_simulator({})'.format(name)\n",
    "\n",
    "        # Use automatic noise model if none is provided\n",
    "        if 'noise_model' not in options:\n",
    "            noise_model = NoiseModel.from_backend(backend)\n",
    "            if not noise_model.is_ideal():\n",
    "                options['noise_model'] = noise_model\n",
    "\n",
    "        # Initialize simulator\n",
    "        sim = cls(configuration=configuration,\n",
    "                  properties=properties,\n",
    "                  **options)\n",
    "        return sim\n",
    "    \n",
    "    # pylint: disable=arguments-differ\n",
    "    def run(self, circuits, validate=False, **run_options):\n",
    "        \n",
    "        # Pre-process parameterized error options\n",
    "        options = copy.deepcopy(run_options)\n",
    "        if 'delay_noise' in options:\n",
    "            delay_noise = options.pop('delay_noise')\n",
    "        else:\n",
    "            delay_noise = self.options.delay_noise\n",
    "        if 'noise_model' in options:\n",
    "            noise_model = options.pop('noise_model')\n",
    "        else:\n",
    "            noise_model = self.options.noise_model\n",
    "\n",
    "        # Add delay noise scheduling\n",
    "        if delay_noise:\n",
    "            # Run custom transpiler pass to replace delays\n",
    "            pm = PassManager()\n",
    "            pm.append([DelayReplace()])\n",
    "            circuits = pm.run(circuits)\n",
    "\n",
    "            # Add parameterized errors to noise model\n",
    "            noise_model = self.add_transpiler_parameterized_errors(circuits, noise_model)\n",
    "\n",
    "        # Run noisy simulation\n",
    "        return super().run(circuits, validate=validate, noise_model=noise_model, **options)"
   ]
  },
  {
   "cell_type": "markdown",
   "metadata": {},
   "source": [
    "### Example 1: Simulating a scheduled circuit"
   ]
  },
  {
   "cell_type": "code",
   "execution_count": 4,
   "metadata": {},
   "outputs": [
    {
     "data": {
      "image/png": "[encoded data removed]",
      "text/plain": [
       "<Figure size 1008x345.6 with 1 Axes>"
      ]
     },
     "execution_count": 4,
     "metadata": {},
     "output_type": "execute_result"
    }
   ],
   "source": [
    "from qiskit import QuantumCircuit, transpile\n",
    "from qiskit.test import mock\n",
    "\n",
    "# Simulator backend\n",
    "target_backend = mock.FakeVigo()\n",
    "backend = DelayAerSimulator.from_backend(target_backend,\n",
    "                                         noise_model=None,\n",
    "#                                          delay_noise=False,\n",
    "                                        )\n",
    "properties = backend.properties()\n",
    "\n",
    "#Make a cirucit\n",
    "##opt1: simple GHZ state\n",
    "qc = QuantumCircuit(3)\n",
    "qc.h(0)\n",
    "qc.cx(0, 1)\n",
    "qc.cx(0, 2)\n",
    "qc.measure_all()\n",
    "##opt2: complicated mess\n",
    "# qc = QuantumCircuit(4)\n",
    "# qc.h(0)\n",
    "# qc.cx(0, 1)\n",
    "# qc.x(1)\n",
    "# qc.cx(0, 2)\n",
    "# qc.x(2)\n",
    "# qc.cz(1, 0)\n",
    "# qc.h(1)\n",
    "# qc.cx(1, 3)\n",
    "# qc.measure_all()\n",
    "\n",
    "# Schedule\n",
    "sched_circ = transpile(qc, backend, scheduling_method='alap')\n",
    "draw(sched_circ)"
   ]
  },
  {
   "cell_type": "code",
   "execution_count": 5,
   "metadata": {},
   "outputs": [
    {
     "data": {
      "text/html": [
       "<pre style=\"word-wrap: normal;white-space: pre;background: #fff0;line-height: 1.1;font-family: &quot;Courier New&quot;,Courier,monospace\">               ┌─────────────────┐                                                                       ░ ┌──────────────────┐      \n",
       "ancilla_0 -> 0 ┤ DELAY(9472[dt]) ├───────────────────────────────────────────────────────────────────────░─┤ DELAY(26160[dt]) ├──────\n",
       "               ├─────────────────┤                                         ┌───┐     ┌─────────────────┐ ░ └──────────────────┘┌─┐   \n",
       "      q_2 -> 1 ┤ DELAY(1536[dt]) ├───────────────────────────────■─────────┤ X ├──■──┤ DELAY(1376[dt]) ├─░─────────────────────┤M├───\n",
       "               ├─────────────────┤                               │         └─┬─┘  │  └─────────────────┘ ░ ┌──────────────────┐└╥┘   \n",
       "ancilla_1 -> 2 ┤ DELAY(9472[dt]) ├───────────────────────────────┼───────────┼────┼──────────────────────░─┤ DELAY(26160[dt]) ├─╫────\n",
       "               └┬────────────────┤                 ┌───┐       ┌─┴─┐         │  ┌─┴─┐       ┌───┐        ░ └──────────────────┘ ║ ┌─┐\n",
       "      q_1 -> 3 ─┤ DELAY(160[dt]) ├─────────────────┤ X ├───────┤ X ├─────────■──┤ X ├───────┤ X ├────────░──────────────────────╫─┤M├\n",
       "                └──┬─────────┬───┘┌────┐┌─────────┐└─┬─┘┌──────┴───┴──────┐     └───┘       └─┬─┘        ░         ┌─┐          ║ └╥┘\n",
       "      q_0 -> 4 ────┤ RZ(π/2) ├────┤ √X ├┤ RZ(π/2) ├──■──┤ DELAY(6560[dt]) ├───────────────────■──────────░─────────┤M├──────────╫──╫─\n",
       "                   └─────────┘    └────┘└─────────┘     └─────────────────┘                              ░         └╥┘          ║  ║ \n",
       "       meas: 3/═════════════════════════════════════════════════════════════════════════════════════════════════════╩═══════════╩══╩═\n",
       "                                                                                                                    0           1  2 </pre>"
      ],
      "text/plain": [
       "               ┌─────────────────┐                                                                       ░ ┌──────────────────┐      \n",
       "ancilla_0 -> 0 ┤ DELAY(9472[dt]) ├───────────────────────────────────────────────────────────────────────░─┤ DELAY(26160[dt]) ├──────\n",
       "               ├─────────────────┤                                         ┌───┐     ┌─────────────────┐ ░ └──────────────────┘┌─┐   \n",
       "      q_2 -> 1 ┤ DELAY(1536[dt]) ├───────────────────────────────■─────────┤ X ├──■──┤ DELAY(1376[dt]) ├─░─────────────────────┤M├───\n",
       "               ├─────────────────┤                               │         └─┬─┘  │  └─────────────────┘ ░ ┌──────────────────┐└╥┘   \n",
       "ancilla_1 -> 2 ┤ DELAY(9472[dt]) ├───────────────────────────────┼───────────┼────┼──────────────────────░─┤ DELAY(26160[dt]) ├─╫────\n",
       "               └┬────────────────┤                 ┌───┐       ┌─┴─┐         │  ┌─┴─┐       ┌───┐        ░ └──────────────────┘ ║ ┌─┐\n",
       "      q_1 -> 3 ─┤ DELAY(160[dt]) ├─────────────────┤ X ├───────┤ X ├─────────■──┤ X ├───────┤ X ├────────░──────────────────────╫─┤M├\n",
       "                └──┬─────────┬───┘┌────┐┌─────────┐└─┬─┘┌──────┴───┴──────┐     └───┘       └─┬─┘        ░         ┌─┐          ║ └╥┘\n",
       "      q_0 -> 4 ────┤ RZ(π/2) ├────┤ √X ├┤ RZ(π/2) ├──■──┤ DELAY(6560[dt]) ├───────────────────■──────────░─────────┤M├──────────╫──╫─\n",
       "                   └─────────┘    └────┘└─────────┘     └─────────────────┘                              ░         └╥┘          ║  ║ \n",
       "       meas: 3/═════════════════════════════════════════════════════════════════════════════════════════════════════╩═══════════╩══╩═\n",
       "                                                                                                                    0           1  2 "
      ]
     },
     "execution_count": 5,
     "metadata": {},
     "output_type": "execute_result"
    }
   ],
   "source": [
    "sched_circ.draw(fold=-1)"
   ]
  },
  {
   "cell_type": "code",
   "execution_count": 6,
   "metadata": {},
   "outputs": [
    {
     "data": {
      "text/plain": [
       "{'010': 13, '101': 2, '000': 485, '111': 524}"
      ]
     },
     "execution_count": 6,
     "metadata": {},
     "output_type": "execute_result"
    }
   ],
   "source": [
    "# Run using custom backend\n",
    "result = backend.run([sched_circ]).result()\n",
    "##Note: if the circuit is sufficiently complicated, you should see a majority of correct counts\n",
    "## plus a few scattered incorrect (error) counts\n",
    "result.get_counts(0)"
   ]
  },
  {
   "cell_type": "markdown",
   "metadata": {},
   "source": [
    "## Example 2a: Running the T1 Experiment with a normal backend"
   ]
  },
  {
   "cell_type": "code",
   "execution_count": 7,
   "metadata": {},
   "outputs": [],
   "source": [
    "import numpy as np\n",
    "from qiskit_experiments.library import T1"
   ]
  },
  {
   "cell_type": "code",
   "execution_count": 8,
   "metadata": {},
   "outputs": [
    {
     "data": {
      "text/plain": [
       "0.00012170801410836628"
      ]
     },
     "execution_count": 8,
     "metadata": {},
     "output_type": "execute_result"
    }
   ],
   "source": [
    "# Check backend recorded T1 of qubit-0 (this should be in 's' units)\n",
    "t1_qubit0 = properties.t1(0)\n",
    "t1_qubit0"
   ]
  },
  {
   "cell_type": "code",
   "execution_count": 9,
   "metadata": {},
   "outputs": [
    {
     "name": "stderr",
     "output_type": "stream",
     "text": [
      "Adding a job from a backend (qasm_simulator) that is different than the current backend (fake_vigo). The new backend will be used, but service is not changed if one already exists.\n"
     ]
    },
    {
     "data": {
      "image/png": "[encoded data removed]",
      "text/plain": [
       "<Figure size 432x288 with 1 Axes>"
      ]
     },
     "metadata": {},
     "output_type": "display_data"
    },
    {
     "name": "stdout",
     "output_type": "stream",
     "text": [
      "DbAnalysisResultV1\n",
      "- name: T1\n",
      "- value: 42.59923795037315 ± 70.97481706754223 s\n",
      "- χ²: 1.3125800006936292\n",
      "- quality: bad\n",
      "- extra: <9 items>\n",
      "- device_components: ['Q0']\n",
      "- verified: False\n"
     ]
    }
   ],
   "source": [
    "delays = list(range(0, 300, 5))\n",
    "\n",
    "# T1 Experiment on a typical backend\n",
    "_t1exp = T1(qubit=0, delays=delays, unit='s')\n",
    "_t1data = _t1exp.run(backend=FakeVigo(), shots=1000).block_for_results()\n",
    "\n",
    "# Print analysis results\n",
    "display(_t1data.figure(0))\n",
    "_t1result = _t1data.analysis_results(-1)\n",
    "print(_t1result)"
   ]
  },
  {
   "cell_type": "markdown",
   "metadata": {},
   "source": [
    "## Example 2.b: Running a T1 experiment"
   ]
  },
  {
   "cell_type": "code",
   "execution_count": 10,
   "metadata": {},
   "outputs": [
    {
     "data": {
      "image/png": "[encoded data removed]",
      "text/plain": [
       "<Figure size 432x288 with 1 Axes>"
      ]
     },
     "metadata": {},
     "output_type": "display_data"
    },
    {
     "name": "stdout",
     "output_type": "stream",
     "text": [
      "DbAnalysisResultV1\n",
      "- name: T1\n",
      "- value: 0.00011876720341347374 ± 3.0646711610124463e-06 s\n",
      "- χ²: 0.00021708459241537347\n",
      "- quality: good\n",
      "- extra: <9 items>\n",
      "- device_components: ['Q0']\n",
      "- verified: False\n"
     ]
    }
   ],
   "source": [
    "# T1 experiment on qubit 0\n",
    "t1exp = T1(qubit=0, delays=delays, unit='us')\n",
    "\n",
    "# Run on the delay-noise backend\n",
    "t1data = t1exp.run(backend=backend, shots=1000).block_for_results()\n",
    "\n",
    "# Print analysis results\n",
    "#   NOTE: if delay noise is correct this should show a plot of exponential decay\n",
    "#   and fit a value close to the `t1_qubit0` target\n",
    "display(t1data.figure(0))\n",
    "t1result = t1data.analysis_results(-1)\n",
    "print(t1result)"
   ]
  },
  {
   "cell_type": "code",
   "execution_count": 11,
   "metadata": {},
   "outputs": [
    {
     "data": {
      "text/plain": [
       "0.00012170801410836628"
      ]
     },
     "execution_count": 11,
     "metadata": {},
     "output_type": "execute_result"
    }
   ],
   "source": [
    "t1_qubit0"
   ]
  },
  {
   "cell_type": "code",
   "execution_count": null,
   "metadata": {},
   "outputs": [],
   "source": []
  }
 ],
 "metadata": {
  "kernelspec": {
   "display_name": "Python 3",
   "language": "python",
   "name": "python3"
  },
  "language_info": {
   "codemirror_mode": {
    "name": "ipython",
    "version": 3
   },
   "file_extension": ".py",
   "mimetype": "text/x-python",
   "name": "python",
   "nbconvert_exporter": "python",
   "pygments_lexer": "ipython3",
   "version": "3.8.2"
  }
 },
 "nbformat": 4,
 "nbformat_minor": 4
}
