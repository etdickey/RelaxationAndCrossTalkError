{
 "cells": [
  {
   "cell_type": "markdown",
   "id": "14fbb737-e5d9-48c3-aaab-a66ed9ca9a7e",
   "metadata": {},
   "source": [
    "# Accurately Modeling Cross-Talk (pass only)"
   ]
  },
  {
   "cell_type": "markdown",
   "id": "5cd1b541-d885-4da3-8bb7-0ac1e652a66e",
   "metadata": {},
   "source": [
    "The purpose of this notebook is to provide an example of how a custom pass could model cross-talk noise between qubits in a circuit.\n",
    "\n",
    "It tests the cross talk pass by showing what happens with extended delays applied in between hadamards.  The pass passes the test, as can be seen below."
   ]
  },
  {
   "cell_type": "markdown",
   "id": "c807b32b-bf33-4513-938e-7eb3a047bafc",
   "metadata": {},
   "source": [
    "First, we need to figure out when different qubits are in parallel delays."
   ]
  },
  {
   "cell_type": "code",
   "execution_count": 1,
   "id": "46bde989-baad-446e-a652-c64806263a18",
   "metadata": {},
   "outputs": [],
   "source": [
    "from qiskit.transpiler.basepasses import TransformationPass\n",
    "from qiskit.dagcircuit import DAGCircuit\n",
    "from qiskit import QuantumRegister\n",
    "from qiskit.circuit import Delay\n",
    "from qiskit.circuit.library import RZZGate, CXGate, RZGate\n",
    "from pprint import pprint\n",
    "\n",
    "\n",
    "# DEBUG = True\n",
    "# VERBOSE = True\n",
    "#Cross talk delay pass\n",
    "class CrossTalkDelayReplace(TransformationPass):\n",
    "    \"\"\"Adds cross-talk delay error information to circuit metadata for noise model post processing\"\"\"\n",
    "\n",
    "    def __init__(self, coupling_map, theta=0.1):\n",
    "        \"\"\"CrossTalk initializer\n",
    "        Args:\n",
    "            coupling_map (list(list(int)) or None): Coupling map for provided backend.  If None, pass will\n",
    "                  not run\n",
    "            theta: a default theta value to use since we can't define it yet for the cross talk.\n",
    "        \"\"\"\n",
    "        super().__init__()\n",
    "        self.coupling_map = coupling_map\n",
    "        self.theta = 0 if theta is None else theta\n",
    "    \n",
    "    def initQubitMapping(self, dag):\n",
    "        \"\"\"Initialize the qubit mapping to index and provide convenient\n",
    "            variables for current time, if the previous op was a delay, and\n",
    "            what the previous op's duration was.  For use when iterating over\n",
    "            the DAG.\n",
    "\n",
    "        Args:\n",
    "            dag (DAGCircuit): the DAG to be optimized\n",
    "            \n",
    "        Returns:\n",
    "            mapping of qubit to index and other loop variables (described above)\n",
    "        \"\"\"\n",
    "        #if there's a coupling map when transpiled, it flattens all other registers\n",
    "        #####dag.qubits <- the order of this list is the order in the coupling map\n",
    "        return {qubit: {\"idx\": i,\n",
    "                        \"currTime\": 0,\n",
    "                        \"prevOpDelay\": False,\n",
    "                        \"prevOpDuration\": 0,\n",
    "                       }\n",
    "                for i, qubit in enumerate(dag.qubits)}\n",
    "    \n",
    "    def splitDelay(self, startTime, duration, pivotTimes):\n",
    "        \"\"\"Splits a delay based on 'pivotTimes' array.\n",
    "\n",
    "        Args:\n",
    "            startTime  (int)      : delay start time\n",
    "            duration   (int)      : delay duration\n",
    "            pivotTimes (List(int)): list of times to split on\n",
    "            \n",
    "        Returns:\n",
    "            dag (DAGCircuit): the list of new delays to replace the old one\n",
    "        \"\"\"\n",
    "        endTime = startTime + duration\n",
    "        \n",
    "        #split and do stuff based on start and end times\n",
    "        newCircuit = DAGCircuit()\n",
    "        reg = QuantumRegister(1)\n",
    "        newCircuit.add_qreg(reg)\n",
    "        \n",
    "        #need to split at every array element of pivotTimes in between startTime and endTime\n",
    "        lastTime = startTime\n",
    "#         if DEBUG and VERBOSE: newTimes = []\n",
    "        for time in pivotTimes:\n",
    "            #need to not add delay of length 0 (startTime <)\n",
    "            # but need to include the last delay until the end time (<= endTime)\n",
    "            if startTime < time <= endTime:\n",
    "                #split\n",
    "                newCircuit.apply_operation_back(Delay(duration=time-lastTime), [reg[0]], [])\n",
    "#                 if DEBUG and VERBOSE: newTimes.append(time-lastTime)\n",
    "                lastTime = time\n",
    "        \n",
    "#         if DEBUG and VERBOSE: print(\"Split delay(\", startTime, \", \", endTime, \") (duration=\", duration, \") into: \", newTimes)\n",
    "        return newCircuit\n",
    "    \n",
    "    def getDelayPivotTimes(self, dag):\n",
    "        \"\"\"Gets all delay start and end times for the given circuit\n",
    "\n",
    "        Args:\n",
    "            dag (DAGCircuit): the dag to extract start and end times from\n",
    "            \n",
    "        Returns:\n",
    "            List(int): list of all delay start and end times\n",
    "        \"\"\"\n",
    "        ##reset qubit_mapping params\n",
    "        qubit_mapping = self.initQubitMapping(dag)\n",
    "        startTimes = []\n",
    "        endTimes = []\n",
    "\n",
    "        #iterate and extract times\n",
    "        ##this relies on the assumption that each node returned by topological_op_nodes is\n",
    "        ## in natural time order per qubit (not overall, only within each qubit)\n",
    "        for node in dag.topological_op_nodes():\n",
    "            op = node.op\n",
    "            qubits = node.qargs\n",
    "            duration = op.duration\n",
    "            \n",
    "            for qubit in qubits:\n",
    "                #check op type\n",
    "                if isinstance(op, Delay):\n",
    "                    # if prev command wasn't a delay, add new delay start time\n",
    "                    if not qubit_mapping[qubit][\"prevOpDelay\"]:\n",
    "                        qubit_mapping[qubit][\"prevOpDelay\"] = True\n",
    "                        startTimes.append(qubit_mapping[qubit][\"currTime\"])\n",
    "\n",
    "                else:\n",
    "                    #if prev command was a delay, this signifies the end of a delay\n",
    "                    if qubit_mapping[qubit][\"prevOpDelay\"]:\n",
    "                        #append end time to list\n",
    "                        endTimes.append(qubit_mapping[qubit][\"currTime\"])\n",
    "                    qubit_mapping[qubit][\"prevOpDelay\"] = False\n",
    "\n",
    "\n",
    "                #get duration and add to offset\n",
    "                qubit_mapping[qubit][\"currTime\"] += duration\n",
    "                qubit_mapping[qubit][\"prevOpDuration\"] = duration\n",
    "\n",
    "        #handle if it's the last delay/op for the qubit\n",
    "        for qubit, data in qubit_mapping.items():\n",
    "            if data[\"prevOpDelay\"]:\n",
    "                #add end time to list\n",
    "                endTimes.append(data[\"currTime\"])\n",
    "\n",
    "        #any time a delay starts or ends, that is a significant event\n",
    "        return sorted(set(startTimes + endTimes))\n",
    "    \n",
    "    def createNewCircuitWithDelays(self, dag, pivotTimes):\n",
    "        \"\"\"Creates a new circuit with all delays split on every \"pivot\" time\n",
    "\n",
    "        Args:\n",
    "            dag (DAGCircuit)      : the dag to split delay times on\n",
    "            pivotTimes (list(int)): list of start and end times of all delays\n",
    "            \n",
    "        Returns:\n",
    "            DAGCircuit: circuit with all delays split on every pivot time\n",
    "        \"\"\"\n",
    "        ##reset qubit_mapping params\n",
    "        qubit_mapping = self.initQubitMapping(dag)\n",
    "\n",
    "        split_delay_dag = DAGCircuit()\n",
    "        for qreg in dag.qregs.values():\n",
    "            split_delay_dag.add_qreg(qreg)\n",
    "        for creg in dag.cregs.values():\n",
    "            split_delay_dag.add_creg(creg)\n",
    "\n",
    "        for node in dag.topological_op_nodes():\n",
    "            op = node.op\n",
    "            qubits = node.qargs\n",
    "            duration = op.duration\n",
    "            \n",
    "            if not isinstance(op, Delay):\n",
    "                #add current node to new dag\n",
    "                split_delay_dag.apply_operation_back(op, qubits, node.cargs)\n",
    "\n",
    "            else:\n",
    "                #split and do stuff based on start and end times, then add\n",
    "                newCircuit = self.splitDelay(qubit_mapping[qubits[0]][\"currTime\"], duration, pivotTimes)\n",
    "                #add new delays to new circuit\n",
    "                for split_delay in newCircuit.topological_op_nodes():\n",
    "                    split_delay_dag.apply_operation_back(split_delay.op, qubits, node.cargs)\n",
    "\n",
    "            #need to go through all of them because of the timing\n",
    "            for qubit in qubits:\n",
    "                #get duration and add to offset\n",
    "                qubit_mapping[qubit][\"currTime\"] += duration\n",
    "                \n",
    "        return split_delay_dag\n",
    "\n",
    "    def enqueueAllNodes(self, split_delay_dag):\n",
    "        \"\"\"Creates an array of all nodes in the dag with their start times, sorted by start time.\n",
    "\n",
    "        Args:\n",
    "            split_delay_dag (DAGCircuit): the dag to enqueue from\n",
    "            \n",
    "        Returns:\n",
    "            List(tuple(startTime: int, node: DAGNode)): sorted list of all nodes and their start time\n",
    "        \"\"\"\n",
    "        ##reset qubit_mapping params\n",
    "        qubit_mapping = self.initQubitMapping(split_delay_dag)\n",
    "        nodes_pq = []\n",
    "\n",
    "        for node in split_delay_dag.topological_op_nodes():\n",
    "            qubits = node.qargs\n",
    "            nodes_pq.append((qubit_mapping[qubits[0]][\"currTime\"], node))\n",
    "            for qubit in qubits:\n",
    "                #get duration and add to offset\n",
    "                qubit_mapping[qubit][\"currTime\"] += node.op.duration\n",
    "\n",
    "        nodes_pq.sort()\n",
    "        return nodes_pq\n",
    "    \n",
    "    def crossTalkFrequencyIJ(self, idx1, idx2):\n",
    "        #todo:: when we have frequency/theta information stored in the backend\n",
    "#         omega = ft#convert delay to seconds and pick theta value so that omega is small 10^3/4/5 ish range should give theta to 10^-2\n",
    "#         RZZGate(theta=delay*omega)\n",
    "        return self.theta\n",
    "    \n",
    "    def insertCrossTalk(self, split_delay_dag, nodes_pq):\n",
    "        \"\"\"Inserts cross talk into the dag when two nodes are delaying together (based on nodes_pq)\n",
    "\n",
    "        Args:\n",
    "            split_delay_dag (DAGCircuit)                         : the dag that nodes_pq references\n",
    "            nodes_pq (list(tuple(startTime: int, node: DAGNode))): queue to reference for time order of nodes\n",
    "            \n",
    "        Returns:\n",
    "            DAGCircuit: the new circuit with cross talk added\n",
    "        \"\"\"\n",
    "        ##reset qubit_mapping params\n",
    "        qubit_mapping = self.initQubitMapping(split_delay_dag)\n",
    "        \n",
    "        #make the new circuit\n",
    "        final_dag = DAGCircuit()\n",
    "        for qreg in split_delay_dag.qregs.values():\n",
    "            final_dag.add_qreg(qreg)\n",
    "        for creg in split_delay_dag.cregs.values():\n",
    "            final_dag.add_creg(creg)\n",
    "\n",
    "        #do the thing\n",
    "        for startTime, node in nodes_pq:\n",
    "            op = node.op\n",
    "            qubits = node.qargs\n",
    "            duration = op.duration\n",
    "            currQubit = qubits[0]\n",
    "            final_dag.apply_operation_back(op, qubits, node.cargs)\n",
    "            \n",
    "            if isinstance(op, Delay):\n",
    "                endTimeCurrQubit = qubit_mapping[currQubit][\"currTime\"] + duration\n",
    "                currQubitIdx = qubit_mapping[currQubit][\"idx\"]\n",
    "                #check the rest of the qubits\n",
    "                for qubit in qubit_mapping:\n",
    "                    if qubit is currQubit:\n",
    "                        continue\n",
    "                    \n",
    "                    #if they are in delay and they have the same\n",
    "                    # start time as this qubit, try to do cross talk\n",
    "                    if qubit_mapping[qubit][\"prevOpDelay\"] and qubit_mapping[qubit][\"currTime\"] == endTimeCurrQubit:\n",
    "                        #if the mighty coupling map decrees it, add cross talk between the two\n",
    "                        if [currQubitIdx, qubit_mapping[qubit][\"idx\"]] in self.coupling_map:\n",
    "                            #Add cross talk by adding current node to the new circuit and then\n",
    "                            # cross talk to it.\n",
    "                            theta = self.crossTalkFrequencyIJ(currQubitIdx, qubit_mapping[qubit][\"idx\"])\n",
    "                            rzgate = RZZGate(theta=theta)\n",
    "                            rzgate.label = 'rzz_ct'\n",
    "                            final_dag.apply_operation_back(rzgate, [currQubit, qubit], [])\n",
    "                qubit_mapping[currQubit][\"prevOpDelay\"] = True\n",
    "            else:\n",
    "                qubit_mapping[currQubit][\"prevOpDelay\"] = False\n",
    "\n",
    "            for qubit in qubits:\n",
    "                #get duration and add to offset\n",
    "                qubit_mapping[qubit][\"currTime\"] += duration\n",
    "                \n",
    "        return final_dag\n",
    "        \n",
    "    \n",
    "    def run(self, dag):\n",
    "        \"\"\"Run the DelayReplace pass on 'dag'.\n",
    "\n",
    "        Args:\n",
    "            dag (DAGCircuit): the DAG to be optimized\n",
    "\n",
    "        Returns:\n",
    "            DAGCircuit: the optimized DAG.\n",
    "        \"\"\"\n",
    "\n",
    "        if self.coupling_map is None:\n",
    "            return dag\n",
    "\n",
    "        #extract start and end times of all delays in the entire circuit\n",
    "        pivotTimes = self.getDelayPivotTimes(dag)\n",
    "        \n",
    "        #check for no delays\n",
    "        if len(pivotTimes) == 0:\n",
    "            return dag\n",
    "        \n",
    "        \n",
    "        #iterate and split delays by every start and end time, replacing the old nodes\n",
    "        # also, find minimum amount of time spent on a single delay (shortest delay) (for possible use later)\n",
    "        ##guaranteed that pivotTimes is at least length 2 because of size check^\n",
    "#         minimumDelay = pivotTimes[-1] - pivotTimes[0] #max possible delay is first start time to last end time\n",
    "\n",
    "        #make the new circuit with the split delays\n",
    "        split_delay_dag = self.createNewCircuitWithDelays(dag, pivotTimes)\n",
    "\n",
    "        #\"Enqueue\" everything (organize by start time)\n",
    "        #list(tuple(startTime, node))\n",
    "        nodes_pq = self.enqueueAllNodes(split_delay_dag)\n",
    "\n",
    "        #As each node is popped off, add cross talk based on the coupling map and\n",
    "        # based on the record of which qubits are currently in a delay\n",
    "        #this is the case that the only cross talk that needs to be added is for those delays that start AT THE SAME TIME\n",
    "        # (which is true because that's what the splitting did)\n",
    "        final_dag = self.insertCrossTalk(split_delay_dag, nodes_pq)\n",
    "        \n",
    "        \n",
    "        #Runtime discussion, for fun :)\n",
    "        #have to split the delays no matter what in order to add cross talk\n",
    "        # meaning that the real comparison is between O(n*m^2) and O(n*m*log(n*m)+popping(cheap))\n",
    "        # for checking if each qubit is in a delay vs priority queue for all gates\n",
    "        #runtime for splitting delays is (analysis pass)+(sorting times)+(reconstrucing circuit) n*m+nmlognm+n*m...ish\n",
    "        #each of the n qubits has m potential delays, n*m + n*m^2 is the runtime for checking if each qubit is in delay\n",
    "        #vs n*m+2*mlogm+n*m^2 for prioirty queue\n",
    "\n",
    "        return final_dag"
   ]
  },
  {
   "cell_type": "code",
   "execution_count": 2,
   "id": "4b0ad4b3-fc19-4d62-a744-7fc8398f7c2e",
   "metadata": {},
   "outputs": [
    {
     "data": {
      "image/png": "[encoded data removed]",
      "text/plain": [
       "<Figure size 1008x345.6 with 1 Axes>"
      ]
     },
     "execution_count": 2,
     "metadata": {},
     "output_type": "execute_result"
    }
   ],
   "source": [
    "#Visualizing the scheduling of a circuit\n",
    "from qiskit import QuantumCircuit, transpile, schedule\n",
    "from qiskit.visualization.timeline import draw\n",
    "from qiskit.test.mock import FakeVigo #test on FakeVigo (5 qubit simulator)\n",
    "\n",
    "qc = QuantumCircuit(3)\n",
    "qc.h(0)\n",
    "qc.cx(0, 1)\n",
    "qc.cx(0, 2)\n",
    "qc.measure_all()\n",
    "# qc = QuantumCircuit(3)\n",
    "# qc.h(0)\n",
    "# qc.cx(0,1)\n",
    "# qc.x(1)\n",
    "# qc.cx(1,2)\n",
    "# qc.h(2)\n",
    "# qc.cx(2, 0)\n",
    "# qc.x(2)\n",
    "# qc.measure_all()\n",
    "\n",
    "backend = FakeVigo() #FakeParis\n",
    "qc = transpile(qc, backend, scheduling_method='alap')\n",
    "draw(qc)"
   ]
  },
  {
   "cell_type": "code",
   "execution_count": 3,
   "id": "238a39cb-a602-4925-9793-8d8e6593c6b9",
   "metadata": {},
   "outputs": [
    {
     "data": {
      "text/html": [
       "<pre style=\"word-wrap: normal;white-space: pre;background: #fff0;line-height: 1.1;font-family: &quot;Courier New&quot;,Courier,monospace\">               ┌─────────────────┐                                                                       ░ ┌──────────────────┐      \n",
       "ancilla_0 -> 0 ┤ DELAY(9472[dt]) ├───────────────────────────────────────────────────────────────────────░─┤ DELAY(26160[dt]) ├──────\n",
       "               ├─────────────────┤                                         ┌───┐     ┌─────────────────┐ ░ └──────────────────┘┌─┐   \n",
       "      q_2 -> 1 ┤ DELAY(1536[dt]) ├───────────────────────────────■─────────┤ X ├──■──┤ DELAY(1376[dt]) ├─░─────────────────────┤M├───\n",
       "               ├─────────────────┤                               │         └─┬─┘  │  └─────────────────┘ ░ ┌──────────────────┐└╥┘   \n",
       "ancilla_1 -> 2 ┤ DELAY(9472[dt]) ├───────────────────────────────┼───────────┼────┼──────────────────────░─┤ DELAY(26160[dt]) ├─╫────\n",
       "               └┬────────────────┤                 ┌───┐       ┌─┴─┐         │  ┌─┴─┐       ┌───┐        ░ └──────────────────┘ ║ ┌─┐\n",
       "      q_1 -> 3 ─┤ DELAY(160[dt]) ├─────────────────┤ X ├───────┤ X ├─────────■──┤ X ├───────┤ X ├────────░──────────────────────╫─┤M├\n",
       "                └──┬─────────┬───┘┌────┐┌─────────┐└─┬─┘┌──────┴───┴──────┐     └───┘       └─┬─┘        ░         ┌─┐          ║ └╥┘\n",
       "      q_0 -> 4 ────┤ RZ(π/2) ├────┤ √X ├┤ RZ(π/2) ├──■──┤ DELAY(6560[dt]) ├───────────────────■──────────░─────────┤M├──────────╫──╫─\n",
       "                   └─────────┘    └────┘└─────────┘     └─────────────────┘                              ░         └╥┘          ║  ║ \n",
       "       meas: 3/═════════════════════════════════════════════════════════════════════════════════════════════════════╩═══════════╩══╩═\n",
       "                                                                                                                    0           1  2 </pre>"
      ],
      "text/plain": [
       "               ┌─────────────────┐                                                                       ░ ┌──────────────────┐      \n",
       "ancilla_0 -> 0 ┤ DELAY(9472[dt]) ├───────────────────────────────────────────────────────────────────────░─┤ DELAY(26160[dt]) ├──────\n",
       "               ├─────────────────┤                                         ┌───┐     ┌─────────────────┐ ░ └──────────────────┘┌─┐   \n",
       "      q_2 -> 1 ┤ DELAY(1536[dt]) ├───────────────────────────────■─────────┤ X ├──■──┤ DELAY(1376[dt]) ├─░─────────────────────┤M├───\n",
       "               ├─────────────────┤                               │         └─┬─┘  │  └─────────────────┘ ░ ┌──────────────────┐└╥┘   \n",
       "ancilla_1 -> 2 ┤ DELAY(9472[dt]) ├───────────────────────────────┼───────────┼────┼──────────────────────░─┤ DELAY(26160[dt]) ├─╫────\n",
       "               └┬────────────────┤                 ┌───┐       ┌─┴─┐         │  ┌─┴─┐       ┌───┐        ░ └──────────────────┘ ║ ┌─┐\n",
       "      q_1 -> 3 ─┤ DELAY(160[dt]) ├─────────────────┤ X ├───────┤ X ├─────────■──┤ X ├───────┤ X ├────────░──────────────────────╫─┤M├\n",
       "                └──┬─────────┬───┘┌────┐┌─────────┐└─┬─┘┌──────┴───┴──────┐     └───┘       └─┬─┘        ░         ┌─┐          ║ └╥┘\n",
       "      q_0 -> 4 ────┤ RZ(π/2) ├────┤ √X ├┤ RZ(π/2) ├──■──┤ DELAY(6560[dt]) ├───────────────────■──────────░─────────┤M├──────────╫──╫─\n",
       "                   └─────────┘    └────┘└─────────┘     └─────────────────┘                              ░         └╥┘          ║  ║ \n",
       "       meas: 3/═════════════════════════════════════════════════════════════════════════════════════════════════════╩═══════════╩══╩═\n",
       "                                                                                                                    0           1  2 "
      ]
     },
     "execution_count": 3,
     "metadata": {},
     "output_type": "execute_result"
    }
   ],
   "source": [
    "qc.draw(fold=-1)"
   ]
  },
  {
   "cell_type": "code",
   "execution_count": 4,
   "id": "454214d0-996d-4761-bf8a-dfd0b2aa9f49",
   "metadata": {},
   "outputs": [
    {
     "data": {
      "text/plain": [
       "{'110': 28,\n",
       " '001': 18,\n",
       " '100': 5,\n",
       " '011': 18,\n",
       " '111': 444,\n",
       " '101': 25,\n",
       " '010': 6,\n",
       " '000': 480}"
      ]
     },
     "execution_count": 4,
     "metadata": {},
     "output_type": "execute_result"
    }
   ],
   "source": [
    "result_normal = backend.run([qc]).result()\n",
    "result_normal.get_counts(0)"
   ]
  },
  {
   "cell_type": "markdown",
   "id": "5a191e33-7daf-47ad-a740-2ad250604001",
   "metadata": {},
   "source": [
    "Now construct a pass manager and run the predefined pass CrossTalkDelayReplace on the qc2 circuit."
   ]
  },
  {
   "cell_type": "code",
   "execution_count": 5,
   "id": "01f5c6a5-8ecf-4c7b-889f-955a78f0a2b0",
   "metadata": {},
   "outputs": [
    {
     "data": {
      "text/html": [
       "<pre style=\"word-wrap: normal;white-space: pre;background: #fff0;line-height: 1.1;font-family: &quot;Courier New&quot;,Courier,monospace\">        ┌────────────────┐          ┌─────────────────┐                                                                    ┌─────────────────┐┌─────────────────┐                                                                          ░ ┌──────────────────┐      \n",
       "   q_0: ┤ DELAY(160[dt]) ├─■────────┤ DELAY(1376[dt]) ├───────────────────────────────────────────────────────■────────────┤ DELAY(6560[dt]) ├┤ DELAY(1376[dt]) ├──────────────────────────────────────────────────────■───────────────────░─┤ DELAY(26160[dt]) ├──────\n",
       "        ├────────────────┤ │ZZ(0.1) └─────────────────┘                              ┌─────────────────┐      │ZZ(0.1)     └─────────────────┘└─────────────────┘                        ┌───┐     ┌─────────────────┐ │ZZ(0.1)            ░ └──────────────────┘┌─┐   \n",
       "   q_1: ┤ DELAY(160[dt]) ├─■──────────────■─────────────────────────────────■────────┤ DELAY(1376[dt]) ├──────■──────────────────■─────────────────────────────────■─────────────────────┤ X ├──■──┤ DELAY(1376[dt]) ├─■─────────■─────────░─────────────────────┤M├───\n",
       "        ├────────────────┤                │ZZ(0.1)     ┌─────────────────┐│ │       │└─────────────────┘                         │ZZ(0.1)     ┌─────────────────┐  │  ┌─────────────────┐└─┬─┘  │  └─────────────────┘           │ZZ(0.1)  ░ ┌──────────────────┐└╥┘   \n",
       "   q_2: ┤ DELAY(160[dt]) ├────────────────■────────────┤ DELAY(1376[dt]) ├┤  rzz_ct ├────────────────────────────────────────────■────────────┤ DELAY(6560[dt]) ├──┼──┤ DELAY(1376[dt]) ├──┼────┼────────────────────────────────■─────────░─┤ DELAY(26160[dt]) ├─╫────\n",
       "        ├────────────────┤                             └─────────────────┘│ │ZZ(0.1)│       ┌───┐                                             └─────────────────┘┌─┴─┐└─────────────────┘  │  ┌─┴─┐       ┌───┐                            ░ └──────────────────┘ ║ ┌─┐\n",
       "   q_3: ┤ DELAY(160[dt]) ├────────────────────────────────────────────────┼─■───────┼───────┤ X ├────────────────────────────────────────────────────────────────┤ X ├─────────────────────■──┤ X ├───────┤ X ├────────────────────────────░──────────────────────╫─┤M├\n",
       "        └──┬─────────┬───┘  ┌────┐      ┌─────────┐                       │         │       └─┬─┘       ┌─────────────────┐                                      └───┘                        └───┘       └─┬─┘                            ░         ┌─┐          ║ └╥┘\n",
       "   q_4: ───┤ RZ(π/2) ├──────┤ √X ├──────┤ RZ(π/2) ├───────────────────────┼─────────┼─────────■─────────┤ DELAY(6560[dt]) ├─────────────────────────────────────────────────────────────────────────────────■──────────────────────────────░─────────┤M├──────────╫──╫─\n",
       "           └─────────┘      └────┘      └─────────┘                       │         │                   └─────────────────┘                                                                                                                ░         └╥┘          ║  ║ \n",
       "meas: 3/══════════════════════════════════════════════════════════════════╪═════════╪═════════════════════════════════════════════════════════════════════════════════════════════════════════════════════════════════════════════════════════════════╩═══════════╩══╩═\n",
       "                                                                          │         │                                                                                                                                                                 0           1  2 </pre>"
      ],
      "text/plain": [
       "        ┌────────────────┐          ┌─────────────────┐                                                                    ┌─────────────────┐┌─────────────────┐                                                                          ░ ┌──────────────────┐      \n",
       "   q_0: ┤ DELAY(160[dt]) ├─■────────┤ DELAY(1376[dt]) ├───────────────────────────────────────────────────────■────────────┤ DELAY(6560[dt]) ├┤ DELAY(1376[dt]) ├──────────────────────────────────────────────────────■───────────────────░─┤ DELAY(26160[dt]) ├──────\n",
       "        ├────────────────┤ │ZZ(0.1) └─────────────────┘                              ┌─────────────────┐      │ZZ(0.1)     └─────────────────┘└─────────────────┘                        ┌───┐     ┌─────────────────┐ │ZZ(0.1)            ░ └──────────────────┘┌─┐   \n",
       "   q_1: ┤ DELAY(160[dt]) ├─■──────────────■─────────────────────────────────■────────┤ DELAY(1376[dt]) ├──────■──────────────────■─────────────────────────────────■─────────────────────┤ X ├──■──┤ DELAY(1376[dt]) ├─■─────────■─────────░─────────────────────┤M├───\n",
       "        ├────────────────┤                │ZZ(0.1)     ┌─────────────────┐│ │       │└─────────────────┘                         │ZZ(0.1)     ┌─────────────────┐  │  ┌─────────────────┐└─┬─┘  │  └─────────────────┘           │ZZ(0.1)  ░ ┌──────────────────┐└╥┘   \n",
       "   q_2: ┤ DELAY(160[dt]) ├────────────────■────────────┤ DELAY(1376[dt]) ├┤  rzz_ct ├────────────────────────────────────────────■────────────┤ DELAY(6560[dt]) ├──┼──┤ DELAY(1376[dt]) ├──┼────┼────────────────────────────────■─────────░─┤ DELAY(26160[dt]) ├─╫────\n",
       "        ├────────────────┤                             └─────────────────┘│ │ZZ(0.1)│       ┌───┐                                             └─────────────────┘┌─┴─┐└─────────────────┘  │  ┌─┴─┐       ┌───┐                            ░ └──────────────────┘ ║ ┌─┐\n",
       "   q_3: ┤ DELAY(160[dt]) ├────────────────────────────────────────────────┼─■───────┼───────┤ X ├────────────────────────────────────────────────────────────────┤ X ├─────────────────────■──┤ X ├───────┤ X ├────────────────────────────░──────────────────────╫─┤M├\n",
       "        └──┬─────────┬───┘  ┌────┐      ┌─────────┐                       │         │       └─┬─┘       ┌─────────────────┐                                      └───┘                        └───┘       └─┬─┘                            ░         ┌─┐          ║ └╥┘\n",
       "   q_4: ───┤ RZ(π/2) ├──────┤ √X ├──────┤ RZ(π/2) ├───────────────────────┼─────────┼─────────■─────────┤ DELAY(6560[dt]) ├─────────────────────────────────────────────────────────────────────────────────■──────────────────────────────░─────────┤M├──────────╫──╫─\n",
       "           └─────────┘      └────┘      └─────────┘                       │         │                   └─────────────────┘                                                                                                                ░         └╥┘          ║  ║ \n",
       "meas: 3/══════════════════════════════════════════════════════════════════╪═════════╪═════════════════════════════════════════════════════════════════════════════════════════════════════════════════════════════════════════════════════════════════╩═══════════╩══╩═\n",
       "                                                                          │         │                                                                                                                                                                 0           1  2 "
      ]
     },
     "execution_count": 5,
     "metadata": {},
     "output_type": "execute_result"
    }
   ],
   "source": [
    "from qiskit.transpiler import PassManager\n",
    "\n",
    "pm = PassManager()\n",
    "pm.append([CrossTalkDelayReplace(backend.configuration().coupling_map)])\n",
    "# print(backend.configuration().coupling_map)\n",
    "\n",
    "out_qc2 = pm.run(qc)\n",
    "out_qc2.draw(fold=-1)"
   ]
  },
  {
   "cell_type": "code",
   "execution_count": 6,
   "id": "6c369d21-537d-4b77-88b0-35821be1f564",
   "metadata": {},
   "outputs": [
    {
     "data": {
      "text/plain": [
       "{'101': 28,\n",
       " '100': 9,\n",
       " '001': 17,\n",
       " '110': 29,\n",
       " '010': 10,\n",
       " '000': 499,\n",
       " '011': 20,\n",
       " '111': 412}"
      ]
     },
     "execution_count": 6,
     "metadata": {},
     "output_type": "execute_result"
    }
   ],
   "source": [
    "# Run using normal backend\n",
    "result = backend.run([out_qc2]).result()\n",
    "##Note: if the circuit is sufficiently complicated, you should see a majority of correct counts\n",
    "## plus a few scattered incorrect (error) counts\n",
    "result.get_counts(0)"
   ]
  },
  {
   "cell_type": "code",
   "execution_count": 15,
   "id": "1da12a9e-6de8-4361-bf57-005ccddff12d",
   "metadata": {},
   "outputs": [
    {
     "data": {
      "text/html": [
       "<pre style=\"word-wrap: normal;white-space: pre;background: #fff0;line-height: 1.1;font-family: &quot;Courier New&quot;,Courier,monospace\">     ┌───┐ ░ ┌───────────────┐                                         ░ ┌───┐\n",
       "q_0: ┤ H ├─░─┤ DELAY(10[dt]) ├─■───────────────────────────────────────░─┤ H ├\n",
       "     ├───┤ ░ ├───────────────┤ │ZZ(0.1)                                ░ ├───┤\n",
       "q_1: ┤ H ├─░─┤ DELAY(10[dt]) ├─■─────────■─────────■───────────────────░─┤ H ├\n",
       "     ├───┤ ░ ├───────────────┤           │ZZ(0.1)  │                   ░ ├───┤\n",
       "q_2: ┤ H ├─░─┤ DELAY(10[dt]) ├───────────■─────────┼───────────────────░─┤ H ├\n",
       "     ├───┤ ░ ├───────────────┤                     │ZZ(0.1)            ░ ├───┤\n",
       "q_3: ┤ H ├─░─┤ DELAY(10[dt]) ├─────────────────────■─────────■─────────░─┤ H ├\n",
       "     ├───┤ ░ ├───────────────┤                               │ZZ(0.1)  ░ ├───┤\n",
       "q_4: ┤ H ├─░─┤ DELAY(10[dt]) ├───────────────────────────────■─────────░─┤ H ├\n",
       "     └───┘ ░ └───────────────┘                                         ░ └───┘</pre>"
      ],
      "text/plain": [
       "     ┌───┐ ░ ┌───────────────┐                                         ░ ┌───┐\n",
       "q_0: ┤ H ├─░─┤ DELAY(10[dt]) ├─■───────────────────────────────────────░─┤ H ├\n",
       "     ├───┤ ░ ├───────────────┤ │ZZ(0.1)                                ░ ├───┤\n",
       "q_1: ┤ H ├─░─┤ DELAY(10[dt]) ├─■─────────■─────────■───────────────────░─┤ H ├\n",
       "     ├───┤ ░ ├───────────────┤           │ZZ(0.1)  │                   ░ ├───┤\n",
       "q_2: ┤ H ├─░─┤ DELAY(10[dt]) ├───────────■─────────┼───────────────────░─┤ H ├\n",
       "     ├───┤ ░ ├───────────────┤                     │ZZ(0.1)            ░ ├───┤\n",
       "q_3: ┤ H ├─░─┤ DELAY(10[dt]) ├─────────────────────■─────────■─────────░─┤ H ├\n",
       "     ├───┤ ░ ├───────────────┤                               │ZZ(0.1)  ░ ├───┤\n",
       "q_4: ┤ H ├─░─┤ DELAY(10[dt]) ├───────────────────────────────■─────────░─┤ H ├\n",
       "     └───┘ ░ └───────────────┘                                         ░ └───┘"
      ]
     },
     "execution_count": 15,
     "metadata": {},
     "output_type": "execute_result"
    }
   ],
   "source": [
    "import numpy as np\n",
    "from qiskit import QuantumCircuit\n",
    "from qiskit.circuit.library import RZZGate\n",
    "import qiskit.quantum_info as qi\n",
    "from qiskit.test.mock import FakeVigo\n",
    "\n",
    "def test_circuit(coupling_map, theta=0, add_noise=False, delay=10):\n",
    "    nq = np.max(coupling_map) + 1\n",
    "    qc = QuantumCircuit(nq)\n",
    "    qc.h(range(nq))\n",
    "    qc.barrier(range(nq))\n",
    "    qc.delay(delay, range(nq))\n",
    "    if add_noise and coupling_map:\n",
    "        finished = [] #coupling map has i, j and j, i\n",
    "        for i, j in coupling_map:\n",
    "            if [i, j] not in finished:\n",
    "                qc.rzz(theta, i, j)\n",
    "                finished.append([i, j])\n",
    "                finished.append([j, i])\n",
    "    qc.barrier(range(nq))\n",
    "    qc.h(range(nq))\n",
    "    return qc\n",
    "\n",
    "def test_state(coupling_map, theta=0, add_noise=False):\n",
    "    qc = test_circuit(coupling_map, theta, add_noise)\n",
    "    return qi.Statevector.from_int(0, 2 ** qc.num_qubits).evolve(qc)\n",
    "\n",
    "def test_crosstalk_circuit(backend, theta=0.1):\n",
    "    coupling_map = backend.configuration().coupling_map\n",
    "    \n",
    "    qc = test_circuit(coupling_map=coupling_map, delay=1000)\n",
    "    qc = transpile(qc, backend, scheduling_method='alap')\n",
    "    \n",
    "    pm = PassManager()\n",
    "    pm.append([CrossTalkDelayReplace(coupling_map, theta)])\n",
    "\n",
    "    qc = pm.run(qc)\n",
    "    return qc\n",
    "\n",
    "def test_crosstalk_state(backend, theta=0.1):\n",
    "    qc = test_crosstalk_circuit(backend, theta)\n",
    "    return qi.Statevector.from_int(0, 2 ** qc.num_qubits).evolve(qc)\n",
    "\n",
    "test_circuit(coupling_map=FakeVigo().configuration().coupling_map, theta=0.1, add_noise=True).draw(fold=-1)"
   ]
  },
  {
   "cell_type": "code",
   "execution_count": 17,
   "id": "6e69a730-5a47-4f44-bfd6-4a260b63a6a5",
   "metadata": {},
   "outputs": [
    {
     "data": {
      "text/html": [
       "<pre style=\"word-wrap: normal;white-space: pre;background: #fff0;line-height: 1.1;font-family: &quot;Courier New&quot;,Courier,monospace\">     ┌─────────┐┌────┐┌─────────┐ ░ ┌─────────────────┐                                          ░ ┌─────────┐┌────┐┌─────────┐\n",
       "q_0: ┤ RZ(π/2) ├┤ √X ├┤ RZ(π/2) ├─░─┤ DELAY(1000[dt]) ├─■────────────────────────────────────────░─┤ RZ(π/2) ├┤ √X ├┤ RZ(π/2) ├\n",
       "     ├─────────┤├────┤├─────────┤ ░ ├─────────────────┤ │ZZ(0.1)                                 ░ ├─────────┤├────┤├─────────┤\n",
       "q_1: ┤ RZ(π/2) ├┤ √X ├┤ RZ(π/2) ├─░─┤ DELAY(1000[dt]) ├─■─────────■──────────■───────────────────░─┤ RZ(π/2) ├┤ √X ├┤ RZ(π/2) ├\n",
       "     ├─────────┤├────┤├─────────┤ ░ ├─────────────────┤           │ZZ(0.1) │ │       │           ░ ├─────────┤├────┤├─────────┤\n",
       "q_2: ┤ RZ(π/2) ├┤ √X ├┤ RZ(π/2) ├─░─┤ DELAY(1000[dt]) ├───────────■────────┤  rzz_ct ├───────────░─┤ RZ(π/2) ├┤ √X ├┤ RZ(π/2) ├\n",
       "     ├─────────┤├────┤├─────────┤ ░ ├─────────────────┤                    │ │ZZ(0.1)│           ░ ├─────────┤├────┤├─────────┤\n",
       "q_3: ┤ RZ(π/2) ├┤ √X ├┤ RZ(π/2) ├─░─┤ DELAY(1000[dt]) ├────────────────────┼─■───────┼─■─────────░─┤ RZ(π/2) ├┤ √X ├┤ RZ(π/2) ├\n",
       "     ├─────────┤├────┤├─────────┤ ░ ├─────────────────┤                    │         │ │ZZ(0.1)  ░ ├─────────┤├────┤├─────────┤\n",
       "q_4: ┤ RZ(π/2) ├┤ √X ├┤ RZ(π/2) ├─░─┤ DELAY(1000[dt]) ├────────────────────┼─────────┼─■─────────░─┤ RZ(π/2) ├┤ √X ├┤ RZ(π/2) ├\n",
       "     └─────────┘└────┘└─────────┘ ░ └─────────────────┘                    │         │           ░ └─────────┘└────┘└─────────┘</pre>"
      ],
      "text/plain": [
       "     ┌─────────┐┌────┐┌─────────┐ ░ ┌─────────────────┐                                          ░ ┌─────────┐┌────┐┌─────────┐\n",
       "q_0: ┤ RZ(π/2) ├┤ √X ├┤ RZ(π/2) ├─░─┤ DELAY(1000[dt]) ├─■────────────────────────────────────────░─┤ RZ(π/2) ├┤ √X ├┤ RZ(π/2) ├\n",
       "     ├─────────┤├────┤├─────────┤ ░ ├─────────────────┤ │ZZ(0.1)                                 ░ ├─────────┤├────┤├─────────┤\n",
       "q_1: ┤ RZ(π/2) ├┤ √X ├┤ RZ(π/2) ├─░─┤ DELAY(1000[dt]) ├─■─────────■──────────■───────────────────░─┤ RZ(π/2) ├┤ √X ├┤ RZ(π/2) ├\n",
       "     ├─────────┤├────┤├─────────┤ ░ ├─────────────────┤           │ZZ(0.1) │ │       │           ░ ├─────────┤├────┤├─────────┤\n",
       "q_2: ┤ RZ(π/2) ├┤ √X ├┤ RZ(π/2) ├─░─┤ DELAY(1000[dt]) ├───────────■────────┤  rzz_ct ├───────────░─┤ RZ(π/2) ├┤ √X ├┤ RZ(π/2) ├\n",
       "     ├─────────┤├────┤├─────────┤ ░ ├─────────────────┤                    │ │ZZ(0.1)│           ░ ├─────────┤├────┤├─────────┤\n",
       "q_3: ┤ RZ(π/2) ├┤ √X ├┤ RZ(π/2) ├─░─┤ DELAY(1000[dt]) ├────────────────────┼─■───────┼─■─────────░─┤ RZ(π/2) ├┤ √X ├┤ RZ(π/2) ├\n",
       "     ├─────────┤├────┤├─────────┤ ░ ├─────────────────┤                    │         │ │ZZ(0.1)  ░ ├─────────┤├────┤├─────────┤\n",
       "q_4: ┤ RZ(π/2) ├┤ √X ├┤ RZ(π/2) ├─░─┤ DELAY(1000[dt]) ├────────────────────┼─────────┼─■─────────░─┤ RZ(π/2) ├┤ √X ├┤ RZ(π/2) ├\n",
       "     └─────────┘└────┘└─────────┘ ░ └─────────────────┘                    │         │           ░ └─────────┘└────┘└─────────┘"
      ]
     },
     "execution_count": 17,
     "metadata": {},
     "output_type": "execute_result"
    }
   ],
   "source": [
    "test_crosstalk_circuit(backend=FakeVigo()).draw(fold=-1)"
   ]
  },
  {
   "cell_type": "code",
   "execution_count": 18,
   "id": "7dd32d51-120f-4e29-8aff-6b3f0811ec91",
   "metadata": {},
   "outputs": [
    {
     "data": {
      "image/png": "[encoded data removed]",
      "text/plain": [
       "<Figure size 432x288 with 1 Axes>"
      ]
     },
     "metadata": {
      "needs_background": "light"
     },
     "output_type": "display_data"
    }
   ],
   "source": [
    "import matplotlib.pyplot as plt\n",
    "\n",
    "backend = FakeVigo()\n",
    "coupling_map = backend.configuration().coupling_map\n",
    "states = [test_state(coupling_map, theta, True) for theta in np.linspace(0, 2 * np.pi, 50)]\n",
    "probs = np.array([psi.probabilities() for psi in states]).T\n",
    "for p in probs:\n",
    "    plt.plot(p)"
   ]
  },
  {
   "cell_type": "code",
   "execution_count": 19,
   "id": "e3a90b83-fc3a-4627-bf46-c6938fa9f759",
   "metadata": {},
   "outputs": [
    {
     "data": {
      "image/png": "[encoded data removed]",
      "text/plain": [
       "<Figure size 432x288 with 1 Axes>"
      ]
     },
     "metadata": {
      "needs_background": "light"
     },
     "output_type": "display_data"
    }
   ],
   "source": [
    "states_crosstalk = [test_crosstalk_state(backend, theta) for theta in np.linspace(0, 2 * np.pi, 50)]\n",
    "probs_crosstalk = np.array([psi.probabilities() for psi in states_crosstalk]).T\n",
    "for p in probs_crosstalk:\n",
    "    plt.plot(p)"
   ]
  },
  {
   "cell_type": "code",
   "execution_count": null,
   "id": "e304854c-f091-4331-836e-ad35f8f63a40",
   "metadata": {},
   "outputs": [],
   "source": []
  }
 ],
 "metadata": {
  "kernelspec": {
   "display_name": "Python 3",
   "language": "python",
   "name": "python3"
  },
  "language_info": {
   "codemirror_mode": {
    "name": "ipython",
    "version": 3
   },
   "file_extension": ".py",
   "mimetype": "text/x-python",
   "name": "python",
   "nbconvert_exporter": "python",
   "pygments_lexer": "ipython3",
   "version": "3.8.2"
  }
 },
 "nbformat": 4,
 "nbformat_minor": 5
}
